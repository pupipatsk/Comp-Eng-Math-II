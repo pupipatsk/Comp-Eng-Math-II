{
  "nbformat": 4,
  "nbformat_minor": 0,
  "metadata": {
    "colab": {
      "provenance": []
    },
    "kernelspec": {
      "name": "python3",
      "display_name": "Python 3"
    }
  },
  "cells": [
    {
      "cell_type": "markdown",
      "metadata": {
        "id": "fpjJ0dSEH93u"
      },
      "source": [
        "#  **<<< Only Problem 1, 4 and 9 will be graded >>>**"
      ]
    },
    {
      "cell_type": "code",
      "metadata": {
        "id": "NJJRGQUCEuNE"
      },
      "source": [
        "import matplotlib.pyplot as plt\n",
        "import numpy as np\n",
        "%matplotlib inline\n",
        "import IPython.display as ipd\n",
        "import os\n",
        "from scipy import signal,fftpack\n",
        "from skimage.io import imread\n",
        "import cv2"
      ],
      "execution_count": null,
      "outputs": []
    },
    {
      "cell_type": "markdown",
      "metadata": {
        "id": "tBn1ddc3FNT3"
      },
      "source": [
        "## Problem 1\n",
        "Sketch the following signals\n",
        "1.\n",
        "$x(t) = \\sin \\left (\\frac{\\pi}{4}t + 20^\\circ \\right)$\n",
        "\n",
        "\n",
        "2.\n",
        "$x(t) = \\begin{cases}t+2 , t \\leq -2 \\\\ 0 , -2 \\leq t \\leq 2\\\\ t-2 , t \\geq 2 \\end{cases}$\n",
        "\n",
        "3.\n",
        "$x(t) = 2e^{-t}, 0 \\leq t < 1$ and $ x(t+1) = x(t) $ for all $t$\n",
        "\n",
        "4.\n",
        "$x(t) = u(t) + 5u(t-1) -2u(t-2)$\n",
        "\n",
        "5.\n",
        "$x(t) = r(t) - r(t-1) - u(t-2)$\n",
        "\n",
        "\n"
      ]
    },
    {
      "cell_type": "markdown",
      "metadata": {
        "id": "9-pRIkFMJtgK"
      },
      "source": [
        "## Problem 2\n",
        "Determine whether each of following signals is periodic, and if so, find its period.\n",
        "1.\n",
        "$x(t) = \\sin \\left( \\frac{\\pi}{3}t \\right) + \\cos \\left( \\frac{8\\pi}{3}t \\right)$\n",
        "2.\n",
        "$x(t) = \\exp \\left  (j\\frac{7\\pi}{6}t \\right) +  \\exp \\left( j\\frac{5\\pi}{6}t \\right) $\n",
        "\n",
        "3.\n",
        "$x(t) = \\exp \\left( j\\frac{7\\pi}{6}t \\right) +  \\exp \\left(\\frac{5\\pi}{6}t \\right) $\n"
      ]
    },
    {
      "cell_type": "markdown",
      "metadata": {
        "id": "XetANJCAAX40"
      },
      "source": [
        "## Problem 3\n",
        "Determine whether the following signals are power or energy signals or neither. Justify your answers\n",
        "\n",
        "1. $x(t) = A\\sin( t ), -\\infty < t < \\infty$\n",
        "2. $x(t) = A(u(t-a) - u(t+a)), \\, a>0 $\n",
        "4. $x(t) = \\exp(-at)u(t), \\,  a>0 $\n",
        "7. $x(t) = A\\exp(bt)u(t), \\, b>0$\n",
        "\n"
      ]
    },
    {
      "cell_type": "markdown",
      "metadata": {
        "id": "io-e0TjvAZFv"
      },
      "source": [
        "## Problem 4\n",
        "For the discrete time signal x[n] shown in Figure below, sketch each of the following\n",
        "\n",
        "1. $x[2-n] $\n",
        "2. $x[3n-4] $\n",
        "3. $x\\left[ \\frac{2}{3}n+1 \\right]  $\n",
        "4. $x\\left[-\\frac{n+8}{4} \\right] $\n",
        "5. $x[n^3] $\n",
        "8. $x[2-n] +x[3n-4] $"
      ]
    },
    {
      "cell_type": "code",
      "metadata": {
        "id": "ZOBvzNUSA5Ie",
        "colab": {
          "base_uri": "https://localhost:8080/",
          "height": 335
        },
        "outputId": "8438abd2-a76b-40b3-9bff-177d9143a8da"
      },
      "source": [
        "# x[n]\n",
        "t = np.arange(-2,4)\n",
        "x_t = np.array([-3,1,2,-2,3,-1])\n",
        "plt.stem(t, x_t)\n",
        "plt.title('x[n]')\n",
        "plt.show()"
      ],
      "execution_count": null,
      "outputs": [
        {
          "output_type": "stream",
          "name": "stderr",
          "text": [
            "/usr/local/lib/python3.7/dist-packages/ipykernel_launcher.py:4: UserWarning: In Matplotlib 3.3 individual lines on a stem plot will be added as a LineCollection instead of individual lines. This significantly improves the performance of a stem plot. To remove this warning and switch to the new behaviour, set the \"use_line_collection\" keyword argument to True.\n",
            "  after removing the cwd from sys.path.\n"
          ]
        },
        {
          "output_type": "display_data",
          "data": {
            "image/png": "[encoded data removed]",
            "text/plain": [
              "<Figure size 432x288 with 1 Axes>"
            ]
          },
          "metadata": {
            "needs_background": "light"
          }
        }
      ]
    },
    {
      "cell_type": "markdown",
      "metadata": {
        "id": "L9nvrT3VDF7z"
      },
      "source": [
        "## Problem 5\n",
        "Determine whether each of following signals is periodic, and if so, find its period.\n",
        "\n",
        "1.\n",
        "$x[n] = \\sin \\left( \\frac{\\pi n}{4} + \\frac{\\pi}{8}\\right)$\n",
        "\n",
        "2.\n",
        "$x[n] = \\sin \\left( \\frac{3\\pi n}{4}\\right) + \\sin\\left( \\frac{\\pi}{3}n\\right)$\n",
        "\n",
        "3.\n",
        "$x[n] = \\sin \\left( \\frac{3\\pi n}{4}\\right)\\sin\\left( \\frac{\\pi}{3}n\\right)$\n",
        "\n",
        "4.\n",
        "$x[n] = \\exp \\left( \\frac{6\\pi}{5}n \\right)$\n",
        "\n",
        "5.\n",
        "$x[n] = \\exp \\left( j\\frac{5\\pi}{6}n \\right)$\n",
        "\n",
        "6.\n",
        "$x[n] =  \\sum_{m=-\\infty}^{\\infty} \\left[ \\delta[n-2m] + 2\\delta[n-3m] \\right]$\n",
        "\n",
        "<!-- 1.\n",
        "$x[n] = \\sin \\left( \\frac{3\\pi n}{4}\\right) + \\cos \\left( \\frac{\\pi}{3} n \\right)$ -->"
      ]
    },
    {
      "cell_type": "markdown",
      "metadata": {
        "id": "6OG_gQWpFt1_"
      },
      "source": [
        " ## Problem 6\n",
        "\n",
        " [python] Signal transformations :\n",
        " Study the sawtooth function in the figure below. Apply reflection, scaling, shifting operations to the signal and plot the transformed signals compared with the original sawtooth signal.  \n"
      ]
    },
    {
      "cell_type": "code",
      "metadata": {
        "id": "B7QaAJojFzgO"
      },
      "source": [
        "import numpy as np\n",
        "from scipy import signal\n",
        "import matplotlib.pyplot as plt\n",
        "%matplotlib inline"
      ],
      "execution_count": null,
      "outputs": []
    },
    {
      "cell_type": "code",
      "metadata": {
        "id": "IxPU9U3A6QT3"
      },
      "source": [
        "# t = np.linspace(-1, 1, 500)\n",
        "# plt.plot(t, signal.sawtooth(2 * np.pi * 5 * t))\n",
        "# plt.show()"
      ],
      "execution_count": null,
      "outputs": []
    },
    {
      "cell_type": "code",
      "metadata": {
        "id": "eSvRMV9E7zxr"
      },
      "source": [
        "# t = np.linspace(-1, 1, 500)\n",
        "# plt.plot(t, signal.sawtooth(2 * np.pi * 5 * t))\n",
        "\n",
        "# scaling factor = 3 and 1/3\n",
        "## TODO : writing code for time scaling"
      ],
      "execution_count": null,
      "outputs": []
    },
    {
      "cell_type": "code",
      "metadata": {
        "id": "k-PqqTMr8MML"
      },
      "source": [
        "# t = np.linspace(-1, 1, 500)\n",
        "# plt.plot(t, signal.sawtooth(2 * np.pi * 5 * t))\n",
        "\n",
        "# shifting t to the left and right 0.05 units\n",
        "\n",
        "## TODO : writing code for time shifting"
      ],
      "execution_count": null,
      "outputs": []
    },
    {
      "cell_type": "code",
      "metadata": {
        "id": "kBizC6-I8SVW"
      },
      "source": [
        "# plt.plot(t, signal.sawtooth(2 * np.pi * 5 * t))\n",
        "\n",
        "## TODO : writing code for time Reflection\n"
      ],
      "execution_count": null,
      "outputs": []
    },
    {
      "cell_type": "markdown",
      "metadata": {
        "id": "NY6ShmCFFz_0"
      },
      "source": [
        "  ## Problem 7\n",
        " [python] Elementary signals: study  the ramp signal plotted in the example below. \\\\\n",
        "TODO : plot these signals\n",
        "\n",
        "1.   Unit step function\n",
        "2.   Unit impulse function\n",
        "\n"
      ]
    },
    {
      "cell_type": "code",
      "metadata": {
        "id": "Mbg3Ho6t7FY7"
      },
      "source": [
        "# t = np.linspace(-1, 1, 500)\n",
        "# ramp_t = t.copy()\n",
        "# ramp_t[ramp_t < 0 ] = 0\n",
        "# plt.plot(t, ramp_t)\n",
        "# plt.show()"
      ],
      "execution_count": null,
      "outputs": []
    },
    {
      "cell_type": "code",
      "metadata": {
        "id": "iVZcur8f7Pcr"
      },
      "source": [
        "## TODO : writing code for plotting unit step function"
      ],
      "execution_count": null,
      "outputs": []
    },
    {
      "cell_type": "code",
      "metadata": {
        "id": "SmTY-DQF7fhC"
      },
      "source": [
        "## TODO : writing code for plotting unit impulse function"
      ],
      "execution_count": null,
      "outputs": []
    },
    {
      "cell_type": "markdown",
      "metadata": {
        "id": "msu3MRejSngt"
      },
      "source": [
        "## Problem 8\n",
        "Express the signal that shown in Figure below using Unit-ramp functions\n"
      ]
    },
    {
      "cell_type": "markdown",
      "metadata": {
        "id": "t2WeKDWrPXNq"
      },
      "source": [
        "\n",
        "<a href=\"https://ibb.co/pXt8t2Y\"><img src=\"https://i.ibb.co/DKxyx40/Screen-Shot-2564-08-11-at-15-16-52.png\" alt=\"Screen-Shot-2564-08-11-at-15-16-52\" border=\"0\"></a>\n",
        "\n"
      ]
    },
    {
      "cell_type": "code",
      "metadata": {
        "id": "QhJ1sjU3Rx_Z"
      },
      "source": [],
      "execution_count": null,
      "outputs": []
    },
    {
      "cell_type": "markdown",
      "metadata": {
        "id": "Dhq-OWJSrSop"
      },
      "source": [
        "## Problem 9\n",
        "\n",
        "Evaluate the following integrals\n",
        "\n",
        "1. $\\int_{-\\infty}^{\\infty} \\left( \\frac{2}{3}t-\\frac{3}{2} \\right) \\delta(t-1) \\,dt$\n",
        "\n",
        "1. $\\int_{-\\infty}^{\\infty} (t-1) \\delta \\left(\\frac{2}{3}t- \\frac{3}{2} \\right) \\,dt$\n",
        "\n",
        "1. $\\int_{-3}^{-2} \\left[ e^{(-t+1)} + \\sin \\left( \\frac{2\\pi t}{3} \\right) \\right] \\delta \\left(t- \\frac{3}{2} \\right) \\,dt$\n",
        "\n",
        "1. $\\int_{-3}^{2} \\left[ e^{(-t+1)} + \\sin \\left( \\frac{2\\pi t}{3} \\right) \\right] \\delta \\left(t- \\frac{3}{2} \\right) \\,dt$"
      ]
    }
  ]
}