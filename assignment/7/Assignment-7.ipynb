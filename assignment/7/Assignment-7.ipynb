{
  "cells": [
    {
      "cell_type": "markdown",
      "metadata": {
        "id": "igtjcSVqlezm"
      },
      "source": [
        "# <<< Only problem 2 and 6 will be graded. >>>"
      ]
    },
    {
      "cell_type": "markdown",
      "metadata": {
        "id": "fNyty8dyT2Nx"
      },
      "source": [
        "## Problem 1: Simplex method\n",
        "\n",
        "Solve the following program using the Simplex method by hand :\n",
        "$$Objective : max(3x + 4y) $$\n",
        "\\begin{equation*}\n",
        "s.t.\n",
        "\\begin{split}\n",
        "  x + 2y & \\leq 7 \\\\\n",
        "  3x  - y & \\leq 5 \\\\\n",
        "  x -  y & \\leq  2 \\\\\n",
        "  x, y & \\geq 0 \\\\\n",
        "\\end{split}\n",
        "\\end{equation*}\n"
      ]
    },
    {
      "cell_type": "code",
      "execution_count": 1,
      "metadata": {
        "id": "ye8gR-Pxqmkr"
      },
      "outputs": [],
      "source": [
        "pass"
      ]
    },
    {
      "cell_type": "markdown",
      "metadata": {
        "id": "mGK1fS97o-SU"
      },
      "source": [
        "## Problem 2 : Two-phased simplex method\n",
        "\n",
        "Solve the following program using a two-phased simplex method by hand :\n",
        "\n",
        "$$Objective : max(3x + 4y) $$\n",
        "\\begin{equation*}\n",
        "s.t.\n",
        "\\begin{split}\n",
        "  x + 2y & \\leq 7 \\\\\n",
        "  3x  - y & \\geq 0 \\\\\n",
        "  x -  y & \\leq  2 \\\\\n",
        "  x, y & \\geq 0 \\\\\n",
        "\\end{split}\n",
        "\\end{equation*}"
      ]
    },
    {
      "cell_type": "code",
      "execution_count": 2,
      "metadata": {
        "id": "MgfuA3rOT5LS"
      },
      "outputs": [],
      "source": [
        "pass"
      ]
    },
    {
      "cell_type": "markdown",
      "metadata": {
        "id": "mZ4g9cZa8FGu"
      },
      "source": [
        "## Problem 3 : Unrestricted variable\n",
        "\n",
        "Solve the following program:\n",
        "$$Objective : min(3x + 4y) $$\n",
        "\\begin{equation*}\n",
        "s.t.\n",
        "\\begin{split}\n",
        "  x + 2y & \\leq 7 \\\\\n",
        "  7x  - y & \\geq 2 \\\\\n",
        "  x -  2y & \\leq  2 \\\\\n",
        "\\end{split}\n",
        "\\end{equation*}\n",
        "\n",
        "Find the solution of $x, y$ in a standard form, and explain the behavior of the optimized unrestricted variables."
      ]
    },
    {
      "cell_type": "code",
      "execution_count": 3,
      "metadata": {
        "id": "R2Lxn3y9UNyD"
      },
      "outputs": [],
      "source": [
        "pass"
      ]
    },
    {
      "cell_type": "markdown",
      "metadata": {
        "id": "pvtVJdiET5kj"
      },
      "source": [
        "## Problem 4: Proof\n",
        "\n",
        "(Winston p.139 problem 6) For an LP in standard form with constraint $A\\mathbf{x} = \\mathbf{b}$ and $ \\mathbf{x} \\geq 0$ show that $\\mathbf{d}$ is a direction of unboundedness if and only if  $A\\mathbf{d} = 0 $ and $\\mathbf{d} \\geq \\mathbf{0}.$"
      ]
    },
    {
      "cell_type": "code",
      "execution_count": 4,
      "metadata": {
        "id": "qpq_14TU8fiF"
      },
      "outputs": [],
      "source": [
        "pass"
      ]
    },
    {
      "cell_type": "markdown",
      "metadata": {
        "id": "rLcCGWriUSzv"
      },
      "source": [
        "## Problem 5:  Multi-objective linear optimization\n",
        "\n",
        "\n",
        "Solve the following program :\n",
        "$$Objective : max(\\{3x + 4y,  4z, y + z\\}) $$\n",
        "\\begin{equation*}\n",
        "s.t.\n",
        "\\begin{split}\n",
        "  x + 2y - 4z & \\leq 7 \\\\\n",
        "  3x  - y + 2z& \\geq 2 \\\\\n",
        "  x -  y  + 3z & \\leq  2 \\\\\n",
        "  x, y, z & \\geq 0 \\\\\n",
        "\\end{split}\n",
        "\\end{equation*}\n"
      ]
    },
    {
      "cell_type": "code",
      "execution_count": 5,
      "metadata": {
        "id": "SybqPSULUShJ"
      },
      "outputs": [],
      "source": [
        "pass"
      ]
    },
    {
      "cell_type": "markdown",
      "metadata": {
        "id": "5BIDdc7IUWk9"
      },
      "source": [
        "##  Problem 6:  Hamtaro factory (part 2)\n",
        "\n",
        "After finding the recipe for the Hamtaro snack, he then starts hiring a worker to work for his sweatshop. \n",
        "\n",
        "- Initially, he has 50 hamster workers in the factory. However, due to substandard working conditions, \n",
        "- 10% of the worker <s >die</s> resign every month. \n",
        "\n",
        "Despite that, Hamtaro does not care about this problem and just hire new workers to fulfill the factory's demand. Before working in the factory, the newly hired hamster has to undergo training for one month to become a skilled worker, \n",
        "\n",
        "- of which 40% of the hamsters dropped out before the training finishes as they realize how terrible the Hamtaro factory is. \n",
        "- The salary for each hamster worker is 8,000 THB per month, \n",
        "- and it cost 500 THB to train each hamster. \n",
        "\n",
        "As Hamtaro predicted the number of required workers each month, how many hamsters should he hire each month to satisfy the factory's demand? Formulate the problem as a linear program and solve for an optimal solution.\n",
        "\n",
        "|  Month | 1  |  2 |  3 |  4 | 5 | 6 |\n",
        "|:-:|:-:|:-:|:-:|:-:|:-:|:-:|\n",
        "| Amount of required factory worker | 40 | 60 | 80 | 40 | 100| 90 |\n",
        "\n",
        "**Note : The optimal solution does not have to be an integer.** </br>\n",
        "\n",
        "\n"
      ]
    },
    {
      "cell_type": "markdown",
      "metadata": {},
      "source": [
        "Parameters:\n",
        "- 10% of the worker <s >die</s> resign every month. \n",
        "- 40% of the hamsters dropped out before the training finishes\n",
        "- salary 8,000 THB per month\n",
        "- 500 THB to train each hamster\n",
        "\n",
        "**Decision Variables**:\n",
        "- $H_t$ : new hired in month t \n",
        "  - 40% drop\n",
        "  - 60% pass: become skilled worker in month t+1 \n",
        "- $W_t$ : skilled worker in month t\n",
        "  - 10% die\n",
        "  - 90% alive: still be skilled worker in month t+1\n",
        "\n",
        "$W_t = 0.9W_{t-1}+0.6H_{t-1}\\ ;W_1=50$\\\n",
        "$W_t = 0.9^{t-1}50 + 0.6(\\sum_{n=1}^{t-1} 0.9^{t-1-n}H_n)$"
      ]
    },
    {
      "cell_type": "markdown",
      "metadata": {},
      "source": [
        "**Objective Function**: minimize cost\n",
        "$$min\\Bigl[\\sum_{t=1}^{6}\\bigl( 8000W_t + 500H_t\\bigl)\\Bigr]$$\n",
        "$$min\\Bigl[\\sum_{t=1}^{6}\\bigl( 8000(0.9^{t-1}50 + 0.6(\\sum_{n=1}^{t-1} 0.9^{t-1-n}H_n)) + 500H_t\\bigl)\\Bigr]$$\n",
        "we can only optimize $H_t$\n",
        "$$min\\Bigl[\\sum_{t=1}^{6}\\bigl( 8000*0.6*0.9^{t-1}(\\sum_{n=1}^{t-1} 0.9^{-n}H_n) + 500H_t\\bigl)\\Bigr]$$\n",
        "=$min[(400000+500H_1 ​  )+(360000+4800H_1 ​  +500H_2 ​  )+(324000+4320H_1 ​  +4800H_2 ​  +500H_3 ​  )+(291600+3888H_1 ​  +4320H_2 ​  +4800H_3 ​  +500H_4 ​  )+(262440+3499.2H_1 ​  +3888H_2 ​  +4320H_3 ​  +4800H_4 ​  +500H_5 ​  )+(236196+3149.28H_1 ​  +3499.2H_2 ​  +3888H_3 ​  +4320H_4 ​  +4800H_5 ​  +500H_6)]$\n",
        "$$min[20156.48H_1+17007.2H_2+13108H_3+5630H_4+4800H_5+500H_6]$$"
      ]
    },
    {
      "cell_type": "markdown",
      "metadata": {},
      "source": [
        "**Constraints**: \n",
        "required worker in each month\n",
        "$$\\begin{align*}\n",
        "50 &\\geq 40 \\\\\n",
        "0.9*50 + 0.6H_1 &\\geq 60 \\\\\n",
        "0.9^2 50 + 0.9^10.6H_1 + 0.6H_2 &\\geq 80 \\\\\n",
        "0.9^3 50 + 0.9^20.6H_1 + 0.9^10.6H_2 + 0.6H_3 &\\geq 40 \\\\\n",
        "0.9^4 50 + 0.9^3 0.6H_1 + 0.9^2 0.6H_2 + 0.9^1 0.6H_3 + 0.6H_4 &\\geq 100 \\\\\n",
        "0.9^5 50 + 0.9^4 0.6H_1 + 0.9^3 0.6H_2 + 0.9^2 0.6H_3 + 0.9^1 0.6H_4 + 0.6H_5 &\\geq 90 \\\\\n",
        "H_t &\\geq 0\n",
        "\\end{align*}$$"
      ]
    },
    {
      "cell_type": "markdown",
      "metadata": {},
      "source": [
        "**Standard Form**:\n",
        "$$Objective:\\ min[20156.48H_1+17007.2H_2+13108H_3+5630H_4+4800H_5+500H_6]$$\n",
        "\n",
        "$$\\begin{align*}\n",
        "e_1 &= 10 \\\\\n",
        "0.6H_1 - e_2 &= 60-0.9*50 \\\\\n",
        "0.9^10.6H_1 + 0.6H_2 - e_3 &= 80-0.9^2 50\\\\\n",
        "0.9^20.6H_1 + 0.9^10.6H_2 + 0.6H_3 - e_4 &= 40-0.9^3 50\\\\\n",
        "0.9^3 0.6H_1 + 0.9^2 0.6H_2 + 0.9^1 0.6H_3 + 0.6H_4 - e_5 &= 100-0.9^4 50\\\\\n",
        "0.9^4 0.6H_1 + 0.9^3 0.6H_2 + 0.9^2 0.6H_3 + 0.9^1 0.6H_4 + 0.6H_5 - e_6 &= 90-0.9^5 50 \\\\\n",
        "H_t, e_t &\\geq 0 \\quad ; t=1,2,3,...,6\n",
        "\\end{align*}$$\n",
        "\n",
        "$$\n",
        "\\begin{split}\n",
        "  \\text{min} \\quad \\mathbf{c}^T \\mathbf{x} \\\\\n",
        "  \\text{s.t.} \\quad \\mathbf{A} \\mathbf{x} = \\mathbf{b} \\\\\n",
        "  \\mathbf{x} \\geq 0\n",
        "\\end{split}\n",
        "$$\n",
        "\n",
        "$$\n",
        "where\\quad\n",
        "\\mathbf{c} = \\begin{bmatrix}\n",
        "...\n",
        "\\end{bmatrix},\n",
        "\\quad\n",
        "\\mathbf{A} = \\begin{bmatrix}\n",
        "... \\\\\n",
        "\\end{bmatrix},\n",
        "\\quad\n",
        "\\mathbf{x} = \\begin{bmatrix}\n",
        "H_1 \\\\\n",
        "H_2 \\\\\n",
        "H_3 \\\\\n",
        "H_4 \\\\\n",
        "H_5 \\\\\n",
        "H_6 \\\\\n",
        "e_1 \\\\\n",
        "e_2 \\\\\n",
        "e_3 \\\\\n",
        "e_4 \\\\\n",
        "e_5 \\\\\n",
        "e_6 \\\\\n",
        "\\end{bmatrix},\n",
        "\\quad\n",
        "\\mathbf{b} = \\begin{bmatrix}\n",
        "...\n",
        "\\end{bmatrix}\n",
        "$$"
      ]
    },
    {
      "cell_type": "code",
      "execution_count": 6,
      "metadata": {},
      "outputs": [
        {
          "name": "stdout",
          "output_type": "stream",
          "text": [
            "Result:\n",
            "         message: Optimization terminated successfully. (HiGHS Status 7: Optimal)\n",
            "        success: True\n",
            "         status: 0\n",
            "            fun: 1353525.3333333335\n",
            "              x: [ 2.500e+01  0.000e+00  4.333e+01  0.000e+00  5.867e+01\n",
            "                  -0.000e+00  1.000e+01  0.000e+00  0.000e+00  3.200e+01\n",
            "                   0.000e+00  0.000e+00]\n",
            "            nit: 0\n",
            "          lower:  residual: [ 2.500e+01  0.000e+00  4.333e+01  0.000e+00\n",
            "                              5.867e+01 -0.000e+00  1.000e+01  0.000e+00\n",
            "                              0.000e+00  3.200e+01  0.000e+00  0.000e+00]\n",
            "                 marginals: [ 0.000e+00  6.390e+03  0.000e+00  1.310e+03\n",
            "                              0.000e+00  0.000e+00  0.000e+00  1.393e+04\n",
            "                              1.537e+04  0.000e+00  7.250e+03  8.333e+02]\n",
            "          upper:  residual: [       inf        inf        inf        inf\n",
            "                                    inf        inf        inf        inf\n",
            "                                    inf        inf        inf        inf]\n",
            "                 marginals: [ 0.000e+00  0.000e+00  0.000e+00  0.000e+00\n",
            "                              0.000e+00  0.000e+00  0.000e+00  0.000e+00\n",
            "                              0.000e+00  0.000e+00  0.000e+00  0.000e+00]\n",
            "          eqlin:  residual: [ 0.000e+00  0.000e+00  0.000e+00  0.000e+00\n",
            "                              0.000e+00  0.000e+00]\n",
            "                 marginals: [-0.000e+00  1.393e+04  1.537e+04 -0.000e+00\n",
            "                              7.250e+03  8.333e+02]\n",
            "        ineqlin:  residual: []\n",
            "                 marginals: []\n",
            " mip_node_count: 0\n",
            " mip_dual_bound: 0.0\n",
            "        mip_gap: 0.0\n",
            "Optimal value is: 1353525.3333333335\n",
            "Optimal solution is: [25.          0.         43.33333333  0.         58.66666667 -0.\n",
            " 10.          0.          0.         32.          0.          0.        ]\n"
          ]
        }
      ],
      "source": [
        "import numpy as np\n",
        "from scipy.optimize import linprog\n",
        "\n",
        "c_T = np.array([20156.48, 17007.2, 13108, 5630, 4800, 500, 0, 0, 0, 0, 0, 0])\n",
        "\n",
        "A = np.array([\n",
        "    [0, 0, 0, 0, 0, 0, 1, 0, 0, 0, 0, 0],\n",
        "    [0.6, 0, 0, 0, 0, 0, 0, -1, 0, 0, 0, 0],\n",
        "    [0.9**1 * 0.6, 0.9**2 * 0.6, 0.6, 0, 0, 0, 0, 0, -1, 0, 0, 0],\n",
        "    [0.9**2 * 0.6, 0.9**3 * 0.6, 0.9**1 * 0.6, 0.6, 0, 0, 0, 0, 0, -1, 0, 0],\n",
        "    [0.9**3 * 0.6, 0.9**4 * 0.6, 0.9**2 * 0.6, 0.9**1 * 0.6, 0.6, 0, 0, 0, 0, 0, -1, 0],\n",
        "    [0.9**4 * 0.6, 0.9**5 * 0.6, 0.9**3 * 0.6, 0.9**2 * 0.6, 0.9**1 * 0.6, 0.6, 0, 0, 0, 0, 0, -1],\n",
        "])\n",
        "\n",
        "b = np.array([\n",
        "    10,\n",
        "    60 - 0.9 * 50,\n",
        "    80 - 0.9**2 * 50,\n",
        "    40 - 0.9**3 * 50,\n",
        "    100 - 0.9**4 * 50,\n",
        "    90 - 0.9**5 * 50,\n",
        "])\n",
        "\n",
        "bounds = [(0, None)] * 12\n",
        "\n",
        "result = linprog(c_T, A_eq=A, b_eq=b, bounds=bounds, method='highs')\n",
        "\n",
        "print(\"Result:\\n\", result)\n",
        "print(\"Optimal value is:\", result.fun)\n",
        "print(\"Optimal solution is:\", result.x)\n"
      ]
    },
    {
      "cell_type": "markdown",
      "metadata": {},
      "source": [
        "**Conclusion**:\n",
        "\n",
        "Optimal value is: 1,353,525.33\n",
        "|  Month | 1  |  2 |  3 |  4 | 5 | 6 |\n",
        "|:-:|:-:|:-:|:-:|:-:|:-:|:-:|\n",
        "| New hire in each month | 25 | 0 | 43.33 | 0 | 58.67 | 0 |\n"
      ]
    },
    {
      "cell_type": "markdown",
      "metadata": {
        "id": "T6R22Z_OU90H"
      },
      "source": [
        "## Problem 7: $l_1$ regression\n",
        "\n",
        "There are some special non-linear problems that could be transformed into a linear program. Absolute value is on one of them.\n",
        "\n",
        "\n",
        "Assuming that $  \\forall j, c_j >0 $, the program\n",
        "$$Objective : min(c_1|x_1| + c_2|x_2| + ... + c_n|x_n|) $$\n",
        "\n",
        "\\begin{equation*}\n",
        "s.t.\n",
        "\\begin{split}\n",
        "  a_{i,1}x_1 +  a_{i,2}x_2 + ...  a_{i,m}x_n & \\geq b \\space\\space\\space\\space for \\space\\space i = 1, 2, ..., m\\\\\n",
        "\\end{split}\n",
        "\\end{equation*}\n",
        "\n",
        "could be transformed into a linear program. To transform the program above, we write :\n",
        "\n",
        "$$ x_j = x^+_j - x^-_j $$\n",
        "\n",
        "and replace $|x_j|$ into $ x^+_j + x^-_j $ then add $ x^+_j,  x^-_j \\geq 0.$ Therefore, the linear program for the problem is :\n",
        "\n",
        "$$Objective : min(c_1(x_1^+ + x_1^-) + c_2(x_2^+ + x_2^-) + ... + c_n(x_n^+ + x_n^-)) $$\n",
        "\n",
        "\\begin{equation*}\n",
        "s.t.\n",
        "\\begin{split}\n",
        "  a_{i,1}(x_1^+ - x_1^-) +  a_{i,2}(x_2^+ - x_2^-) + ...  a_{i,m}(x_n^+ - x_n^-) & \\geq b\\\\\n",
        "  \\forall j, \\space x_j^+, x_j^- & \\geq 0\n",
        "\\end{split}\n",
        "\\end{equation*}\n",
        "\n",
        "Being able to solve a linear program for absolute values allow us to solve new problems, of which one of them is a $l_1$ regression.\n",
        "\n"
      ]
    },
    {
      "cell_type": "markdown",
      "metadata": {
        "id": "cVE4eQhD-pmp"
      },
      "source": [
        "#### Consider the following datapoints :"
      ]
    },
    {
      "cell_type": "code",
      "execution_count": 7,
      "metadata": {
        "id": "93s85ELfU-2e"
      },
      "outputs": [],
      "source": [
        "import numpy as np\n",
        "x = np.array([0.1, -1  , -0.4,  2.3, 1.1, 3.2, 1, 4.1, -1.2, 0.9, 5, 0, 7])\n",
        "y = np.array([2   , 1.2, 0.7  , 4   , 3   , 5   , 2, 3   , 0   , 25  , 6, 1,6])"
      ]
    },
    {
      "cell_type": "markdown",
      "metadata": {
        "id": "iTzs2XwaCcRj"
      },
      "source": [
        "As you have already learned in COM ENG MATH I class, we could find a line that best fit these datapoints by using the least square method, which could be written in a mathematical program shown below :\n",
        "\n",
        "####Decision variable $\\beta_1, \\beta_0$\n",
        "\n",
        "\n",
        "$$Objective : min( \\sum_{i=1}^{N}(y_i - (\\beta_1x_i + \\beta_0))^2) $$\n",
        "\\begin{equation*}\n",
        "s.t.\n",
        "\\begin{split}\n",
        "  \\beta_1, \\beta_0 \\in R\n",
        "\\end{split}\n",
        "\\end{equation*}\n",
        "\n"
      ]
    },
    {
      "cell_type": "code",
      "execution_count": 8,
      "metadata": {
        "colab": {
          "base_uri": "https://localhost:8080/",
          "height": 279
        },
        "id": "-7ylL-7a_awP",
        "outputId": "eaa55890-5f9b-4951-b034-024b7ae1536f"
      },
      "outputs": [
        {
          "data": {
            "image/png": "[encoded data removed]",
            "text/plain": [
              "<Figure size 640x480 with 1 Axes>"
            ]
          },
          "metadata": {},
          "output_type": "display_data"
        }
      ],
      "source": [
        "from sklearn.linear_model import LinearRegression\n",
        "import matplotlib.pyplot as plt\n",
        "reg = LinearRegression().fit(x.reshape(-1, 1), y.reshape(-1, 1))\n",
        "beta_1, beta_0 = (reg.coef_)[0,0], reg.intercept_[0]\n",
        "\n",
        "x_pred = np.linspace(-2, 7, 100)\n",
        "y_pred = beta_1 * x_pred + beta_0\n",
        "plt.plot(x_pred, y_pred, '--', label = 'Best fit line using the least square method')\n",
        "plt.scatter(x, y)\n",
        "plt.legend()\n",
        "plt.xlabel('x')\n",
        "plt.ylabel('y')\n",
        "plt.show()"
      ]
    },
    {
      "cell_type": "markdown",
      "metadata": {
        "id": "941-bKTNFIDt"
      },
      "source": [
        "From the result above, by using the least square method, the line is not properly fit when the outliers are in the data. Therefore, in this situation, $l_1$ regression is often used as an alternative.\n",
        "\n",
        "A mathematical program for $l_1$ regression is:\n",
        "\n",
        "####Decision variable $\\beta_1, \\beta_0$\n",
        "\n",
        "$$Objective : min( \\sum_{i=1}^{N}|y_i - (\\beta_1x_i + \\beta_0)|) $$\n",
        "\\begin{equation*}\n",
        "s.t.\n",
        "\\begin{split}\n",
        "  \\beta_1, \\beta_0 \\in R\n",
        "\\end{split}\n",
        "\\end{equation*}\n",
        "\n",
        "\n",
        "\n",
        "Find $\\beta_1, \\beta_0$ using $l_1$ regression by reformulating the problem as a linear program,  and compare the result with the least square method by plotting the line generated $l_1$ regression. Which one is better, and why?\n",
        "\n",
        "**WARNING : Be careful.** </br>\n"
      ]
    },
    {
      "cell_type": "code",
      "execution_count": 9,
      "metadata": {
        "id": "e7xx84p42jss"
      },
      "outputs": [],
      "source": [
        "pass"
      ]
    },
    {
      "cell_type": "markdown",
      "metadata": {
        "id": "WR_-zWHdtu5L"
      },
      "source": [
        "# Problem 8: Duality Theorem\n",
        "\n",
        "Corresponding to a given **primal form** linear programming problem\n",
        "\n",
        "$$Objective : max( c^Tx) $$\n",
        "\\begin{equation*}\n",
        "s.t.\n",
        "\\begin{split}\n",
        "  Ax \\leq b \\\\\n",
        "  x \\geq 0\n",
        "\\end{split}\n",
        "\\end{equation*}\n",
        "\n",
        "there is another problem called **dual form** as follow:\n",
        "\n",
        "$$Objective : min( b^Ty) $$\n",
        "\\begin{equation*}\n",
        "s.t.\n",
        "\\begin{split}\n",
        "  A^Ty & \\geq c \\\\\n",
        "  y & \\geq 0 \\\\\n",
        "\\end{split}\n",
        "\\end{equation*}\n",
        "\n",
        "The **strong duality theorem** says that the objective of the two LPs will be equal.\n",
        "\n",
        "In this problem we will use this property to convert between forms and show the potential usefulness of duality."
      ]
    },
    {
      "cell_type": "markdown",
      "metadata": {
        "id": "77sKvQI4tu5T"
      },
      "source": [
        "## 8.1\n",
        "\n",
        "Solve the following primal form LP :\n",
        "\n",
        "$$Objective : min(3x_1 - 2x_2 + 4x_3) $$\n",
        "\\begin{equation*}\n",
        "s.t.\n",
        "\\begin{split}\n",
        "  -2x_1 + 5x_2 - 4x_3& \\leq -7 \\\\\n",
        "  -6x_1 - x_2 + 3x_3& \\leq -4 \\\\\n",
        "  7x_1 + 2x_2 + x_3& \\leq 10 \\\\\n",
        "  1x_1 - 2x_2 - 5x_3& \\leq -3 \\\\\n",
        "  -2x_1 + 7x_2 - 2x_3& \\leq -2 \\\\\n",
        "  x_1, x_2, x_3& \\geq 0 \\\\\n",
        "\\end{split}\n",
        "\\end{equation*}\n",
        "\n"
      ]
    },
    {
      "cell_type": "markdown",
      "metadata": {
        "id": "ubF0LCLhatub"
      },
      "source": [
        "# 8.2\n",
        "\n",
        "Compare the primal and dual form, which one take more iterations to solve? What might have caused this? Discuss the potential advantages of this technique in real world problems."
      ]
    },
    {
      "cell_type": "markdown",
      "metadata": {
        "id": "XdTeFd4AbmtY"
      },
      "source": [
        "Ans:"
      ]
    },
    {
      "cell_type": "markdown",
      "metadata": {
        "id": "euZ-TOePNN-T"
      },
      "source": [
        "# 8.3 Proving **weak duality theorem**\n",
        "\n",
        "The weak duality theorem states that the dual will be an upper-bound of the primal. In other words,\n",
        "\n",
        "If $x \\in R^n$ is a feasible solution (not necessary optimal) for the primal and $y \\in R^m$ is a feasible solution for the dual, then\n",
        "\n",
        "$$ c^Tx \\leq b^Ty$$\n",
        "\n",
        "Prove the weak duality theorem\n",
        "\n",
        "(Hint: if x and y are feasible solutions, the constrains must be true)"
      ]
    },
    {
      "cell_type": "code",
      "execution_count": 10,
      "metadata": {
        "id": "vyo8hDUKumFo"
      },
      "outputs": [],
      "source": [
        "pass"
      ]
    },
    {
      "cell_type": "markdown",
      "metadata": {
        "id": "cyoIIK-ud48m"
      },
      "source": [
        "## Additional info about Duality (optional)\n",
        "\n",
        "The strong duality can be shown from the weak duality if we use the simplex method or can be proved using Farkas's Lemma. See TA's solution for the proof of the strong duality theorem.\n",
        "\n",
        "For LPs, the strong duality always hold. For general optimization problems, only weak duality applies.\n",
        "\n",
        "The duality theorem provides another way to look into a particular problem and can be a powerful tool for problem interpretation.\n",
        "\n",
        "Let's consider a very trivial problem to illustrate this.\n",
        "\n",
        "**Primal problem (max)**\n",
        "\n",
        "A tree can be used to produce 3 chairs or 2 tables. A chair sells for 30. A table sells for 40. Find the optimal revenue for a carpenter using this tree.\n",
        "\n",
        "Let $c$ and $t$ be the amount of chairs and tables to produce, respectively. \\\\\n",
        "\n",
        "$$Objective : max(30c + 40t) $$\n",
        "\\begin{equation*}\n",
        "s.t.\n",
        "\\begin{split}\n",
        "\\frac{1}{3}c + \\frac{1}{2}t \\leq 1 \\\\\n",
        "c,t \\geq 0\n",
        "\\end{split}\n",
        "\\end{equation*}\n",
        "\n",
        "**Dual problem (min)**\n",
        "\n",
        "A business man wants to buy the tree from the carpenter. Find the optimal price for the businessman. In this case, the constraint dictates that the price should be high enough for the carpenter to sell if he were to fully make the tree into a chair or a table.\n",
        "\n",
        "Let $p$ be the price of a tree that the businessman should pay for. \\\\\n",
        "\n",
        "$$Objective : min(1p) $$\n",
        "\\begin{equation*}\n",
        "s.t.\n",
        "\\begin{split}\n",
        "\\frac{1}{3}p\\geq 30 \\\\\n",
        "\\frac{1}{2}p\\geq 40 \\\\\n",
        "p \\geq 0\n",
        "\\end{split}\n",
        "\\end{equation*}\n",
        "\n",
        "The conversion between Primal and Dual provided here is very specific. However, there is a more generic way to convert between the two forms which make it applicable to more types of problems. For more details on duality see Chapter 6 in the book."
      ]
    },
    {
      "cell_type": "code",
      "execution_count": 11,
      "metadata": {
        "id": "kc4Tk9e-up9z"
      },
      "outputs": [],
      "source": [
        "pass"
      ]
    }
  ],
  "metadata": {
    "colab": {
      "provenance": []
    },
    "kernelspec": {
      "display_name": "datascience",
      "language": "python",
      "name": "python3"
    },
    "language_info": {
      "codemirror_mode": {
        "name": "ipython",
        "version": 3
      },
      "file_extension": ".py",
      "mimetype": "text/x-python",
      "name": "python",
      "nbconvert_exporter": "python",
      "pygments_lexer": "ipython3",
      "version": "3.9.7"
    }
  },
  "nbformat": 4,
  "nbformat_minor": 0
}
