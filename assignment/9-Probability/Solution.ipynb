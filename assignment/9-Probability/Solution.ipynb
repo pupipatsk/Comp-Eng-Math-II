{
 "cells": [
  {
   "cell_type": "markdown",
   "metadata": {
    "id": "Unizl2CVEfhI"
   },
   "source": [
    "# Attention !!! \n",
    "- Please write or take a screenshot of all answers in the pdf file. You won't be graded if there is no pdf file in the submission.\n",
    "- Only TODO 1, 2, 3, 4, 5, 6, 10, 11 will be graded."
   ]
  },
  {
   "cell_type": "markdown",
   "metadata": {
    "id": "pMqXdYpngMzX"
   },
   "source": [
    "# Sampling"
   ]
  },
  {
   "cell_type": "markdown",
   "metadata": {
    "id": "1IDhzu0KVO5t"
   },
   "source": [
    "TODO#1: Write functions that samples from the following distribution\n",
    "1. $\\mathcal{N}(0,1)$\n",
    "2. $Bernoulli(0.3)$\n",
    "3. $B(10, 0.3)$\n",
    "4. $Multinomial(n=10, p=[0.3,0.2,0.5])$\n",
    "5. $U(0,1)$\n",
    "<!-- 6. $T(0,1)$; $T(a,b)$ is defined as a function with a shape of a triangle that pass through point $(a,0)$, $(b,0)$, and $(b, K):\\frac{(b-a)K}{2}=1$. -->\n",
    "6. $T(0,1)$; $T(a,b)$ is defined as a function with a shape of a triangle that pass through point $(a,0)$, $(b,0)$, and $(\\frac{a+b}{2}, K):\\frac{(b-a)K}{2}=1$.\n",
    "\n",
    "Capture screenshot of the histogram for each of the distribution and paste them on the pdf file. The example is shown below.\n",
    "\n",
    "Hint: see scipy.stats for common distributions.\n",
    "[plt.hist](https://matplotlib.org/stable/api/_as_gen/matplotlib.pyplot.hist.html) should be helpful for plotting histograms"
   ]
  },
  {
   "cell_type": "code",
   "execution_count": null,
   "metadata": {
    "id": "zU6rYTAnmeTg"
   },
   "outputs": [],
   "source": [
    "import numpy as np\n",
    "import matplotlib.pyplot as plt\n",
    "from scipy.stats import norm, bernoulli, binom, multinomial, uniform, expon\n",
    "\n",
    "\n",
    "def sample_normal(sample_size=10, mu=0, std=1):\n",
    "  # TODO#1.1: #\n",
    "  distribution = norm(loc=mu, scale=std)\n",
    "  return distribution.rvs(sample_size)\n",
    "  ###\n",
    "\n",
    "def sample_bernoulli(sample_size=10, p=0.5):\n",
    "  # TODO#1.2:\n",
    "  distribution = bernoulli(p=p)\n",
    "  return distribution.rvs(sample_size)\n",
    "  ###\n",
    "\n",
    "def sample_binomial(sample_size=10, n=10, p=0.5):\n",
    "  # TODO#1.3:\n",
    "  distribution = binom(n=n, p=p)\n",
    "  return distribution.rvs(sample_size)\n",
    "  ###\n",
    "\n",
    "def sample_multinomial(sample_size=10, n=100, p=[0.3, 0.2, 0.5]):\n",
    "  # TODO#1.4:\n",
    "  distribution = multinomial(n, p=p)\n",
    "  return distribution.rvs(sample_size)\n",
    "  ###\n",
    "\n",
    "def sample_uniform(sample_size=10, from_x=0, to_x=1):\n",
    "  # TODO#1.5:\n",
    "  distribution = uniform(loc=from_x, scale=to_x-from_x)\n",
    "  return distribution.rvs(sample_size)\n",
    "  ###\n",
    "\n",
    "\n",
    "# TODO#1.6:\n",
    "def sample_triangle(sample_size=10, a=0, b=1):\n",
    "  cdf = uniform.rvs(size=sample_size)\n",
    "  x = triangle_inv_cdf(cdf, a, b)\n",
    "  return x\n",
    "###\n",
    "\n",
    "\n",
    "def triangle_pdf(x, a=0, b=1):\n",
    "  # y = 2/((b-a)**2) * x\n",
    "  y = 4/((b-a)**2) * x\n",
    "  y[len(x)//2+1:] = -4/((a-b)**2) * (x[len(x)//2+1:]-b)\n",
    "  y[(x < a) | (x > b)] = 0\n",
    "  return y\n",
    "\n",
    "\n",
    "def triangle_cdf(x, a=0, b=1):\n",
    "  y = np.copy(x)\n",
    "  # y = 0.5 * 4/((b-a)**2) * (x[sel_left]**2)\n",
    "  sel_left = x <= (a+b)/2\n",
    "  y[sel_left] = 0.5 * 4/((b-a)**2) * (x[sel_left]**2)\n",
    "  y[~sel_left] = 1 - 0.5 * (b-x[~sel_left]) * (-4/((a-b)**2) * (x[~sel_left]-b))\n",
    "  y[x < a] = 0\n",
    "  y[x > b] = 0\n",
    "  return y\n",
    "\n",
    "\n",
    "def triangle_inv_cdf(p, a=0, b=1):\n",
    "  x = np.copy(p)\n",
    "  sel_left = (p <= 0.5)\n",
    "  x[sel_left] = a + np.sqrt(2*p[sel_left]) * abs((b-a)/2)\n",
    "  x[~sel_left] = b - np.sqrt(2*(1-p[~sel_left])) * abs((a-b)/2)\n",
    "  return x"
   ]
  },
  {
   "cell_type": "code",
   "execution_count": null,
   "metadata": {
    "colab": {
     "base_uri": "https://localhost:8080/",
     "height": 265
    },
    "executionInfo": {
     "elapsed": 23,
     "status": "ok",
     "timestamp": 1637162862674,
     "user": {
      "displayName": "Burin Naowarat",
      "photoUrl": "https://lh3.googleusercontent.com/a/default-user=s64",
      "userId": "04815297264150204280"
     },
     "user_tz": -420
    },
    "id": "KecVJbWykaG5",
    "outputId": "3b46f461-64ca-43de-b984-0101418e08d9"
   },
   "outputs": [
    {
     "data": {
      "image/png": "[encoded data removed]",
      "text/plain": [
       "<Figure size 432x288 with 1 Axes>"
      ]
     },
     "metadata": {
      "needs_background": "light"
     },
     "output_type": "display_data"
    }
   ],
   "source": [
    "# Use this code block to show your sampling result.\n",
    "sample_size = 1000000\n",
    "s = sample_triangle(sample_size, -0.01, 0.02)\n",
    "count, bins, ignored = plt.hist(s, 100, density=False)\n",
    "plt.show()"
   ]
  },
  {
   "cell_type": "code",
   "execution_count": null,
   "metadata": {
    "colab": {
     "base_uri": "https://localhost:8080/"
    },
    "executionInfo": {
     "elapsed": 19,
     "status": "ok",
     "timestamp": 1637162862675,
     "user": {
      "displayName": "Burin Naowarat",
      "photoUrl": "https://lh3.googleusercontent.com/a/default-user=s64",
      "userId": "04815297264150204280"
     },
     "user_tz": -420
    },
    "id": "6O0YcpWxAQLD",
    "outputId": "32860d51-e06a-484a-9d8d-0c92a4183c07"
   },
   "outputs": [
    {
     "data": {
      "text/plain": [
       "(3.831360586406313e-05, 0.004970758338372641)"
      ]
     },
     "execution_count": 3,
     "metadata": {},
     "output_type": "execute_result"
    }
   ],
   "source": [
    "s = sample_triangle(sample_size=10000, a=-0.01, b=0.02)\n",
    "s.var(), s.mean()"
   ]
  },
  {
   "cell_type": "code",
   "execution_count": null,
   "metadata": {
    "colab": {
     "base_uri": "https://localhost:8080/"
    },
    "executionInfo": {
     "elapsed": 15,
     "status": "ok",
     "timestamp": 1637162862676,
     "user": {
      "displayName": "Burin Naowarat",
      "photoUrl": "https://lh3.googleusercontent.com/a/default-user=s64",
      "userId": "04815297264150204280"
     },
     "user_tz": -420
    },
    "id": "KsTMsv-WASqD",
    "outputId": "46c3ba9c-6ab0-47a1-be80-856bcaae1e8b"
   },
   "outputs": [
    {
     "data": {
      "text/plain": [
       "(7.584795481823349e-05, 0.005135973567548148)"
      ]
     },
     "execution_count": 4,
     "metadata": {},
     "output_type": "execute_result"
    }
   ],
   "source": [
    "s = sample_uniform(sample_size=10000, from_x=-0.01, to_x=0.02)\n",
    "s.var(), s.mean()"
   ]
  },
  {
   "cell_type": "code",
   "execution_count": null,
   "metadata": {
    "id": "PyVPUmTmmwbo"
   },
   "outputs": [],
   "source": [
    "criterion = 1e-3\n",
    "sample_size = int(1e7)\n",
    "assert sample_normal(sample_size, mu=0, std=1).mean() < criterion\n",
    "assert sample_bernoulli(sample_size, p=0.5).sum()/sample_size - 0.5 < criterion\n",
    "assert sample_binomial(sample_size, n=1, p=0.5).sum() / sample_size - 0.5 < criterion\n",
    "assert sample_multinomial(sample_size, n=1, p=[0.5, 0.5])[:,0].sum()/sample_size - 0.5 < criterion\n",
    "assert sample_uniform(sample_size, from_x=0, to_x=1).mean() - 0.5 < criterion\n",
    "assert sample_triangle(sample_size, a=0, b=1).mean() - 0.5 < criterion"
   ]
  },
  {
   "cell_type": "markdown",
   "metadata": {
    "id": "Zxm0sZtKvMei"
   },
   "source": [
    "# Law of large number"
   ]
  },
  {
   "cell_type": "markdown",
   "metadata": {
    "id": "u7NrahI5q_nN"
   },
   "source": [
    "### Law of large number"
   ]
  },
  {
   "cell_type": "markdown",
   "metadata": {
    "id": "76634yTWBz65"
   },
   "source": [
    "**TODO#2:** Using a sampling function from TODO#1.1, Plot the graph that shows the relation between an empirical mean and sampling size from 1 up to 10000. \n",
    "What does the graph imply about the difference between the empirical mean and the theoritical mean?"
   ]
  },
  {
   "cell_type": "code",
   "execution_count": null,
   "metadata": {
    "colab": {
     "base_uri": "https://localhost:8080/",
     "height": 279
    },
    "executionInfo": {
     "elapsed": 1748,
     "status": "ok",
     "timestamp": 1637162866733,
     "user": {
      "displayName": "Burin Naowarat",
      "photoUrl": "https://lh3.googleusercontent.com/a/default-user=s64",
      "userId": "04815297264150204280"
     },
     "user_tz": -420
    },
    "id": "CEWCR9k0rBsx",
    "outputId": "4c41ee2c-929a-4654-dbe9-46419997d40c"
   },
   "outputs": [
    {
     "data": {
      "image/png": "[encoded data removed]",
      "text/plain": [
       "<Figure size 432x288 with 1 Axes>"
      ]
     },
     "metadata": {
      "needs_background": "light"
     },
     "output_type": "display_data"
    }
   ],
   "source": [
    "target_sample_size=10000\n",
    "step_sample_size = 10\n",
    "sample_means = []\n",
    "samples = []\n",
    "mu, sigma = 0, 1 # mean and standard deviation\n",
    "\n",
    "for i in range(0, target_sample_size, step_sample_size):\n",
    "  s = sample_normal(step_sample_size, mu, sigma)\n",
    "  samples.extend(s.tolist())\n",
    "  sample_means.append(np.mean(samples))\n",
    "\n",
    "plt.plot(np.arange(0, target_sample_size, step_sample_size), sample_means, label='sample mean')\n",
    "plt.plot(np.arange(0, target_sample_size, step_sample_size), np.zeros(len(sample_means)), label='true mean')\n",
    "plt.xlabel(\"sample size\")\n",
    "plt.legend()\n",
    "plt.show()"
   ]
  },
  {
   "cell_type": "markdown",
   "metadata": {
    "id": "oh4dPSCJ64R4"
   },
   "source": [
    "**ANS TODO#2:** The sample mean is closer and closer to the true mean as the sample size grows."
   ]
  },
  {
   "cell_type": "markdown",
   "metadata": {
    "id": "cuBPgENdq6GI"
   },
   "source": [
    "### Law of large number for histogram"
   ]
  },
  {
   "cell_type": "markdown",
   "metadata": {
    "id": "au_DmcJ9O8Zu"
   },
   "source": [
    "The histogram is used to approximate the PDF of an unknown distribution.\n",
    "The bin in the histogram represents the frequency of the event happening inside the bin range. \n",
    "\n",
    "**TODO#3:** Given a fix bin number of 40. Plot the histogram of the data sampling from the function, `sample_normal(n, 0, 1)`, for different sizes of sample: 500, 1k, 5k and 10k. \n",
    "Compare and explain the relation between the approximation given by the histogram and the true PDF for each of the sample size."
   ]
  },
  {
   "cell_type": "code",
   "execution_count": null,
   "metadata": {
    "colab": {
     "base_uri": "https://localhost:8080/",
     "height": 1000
    },
    "executionInfo": {
     "elapsed": 16,
     "status": "ok",
     "timestamp": 1637162866734,
     "user": {
      "displayName": "Burin Naowarat",
      "photoUrl": "https://lh3.googleusercontent.com/a/default-user=s64",
      "userId": "04815297264150204280"
     },
     "user_tz": -420
    },
    "id": "YL4dihMLTEMh",
    "outputId": "95d719ab-506b-4690-ef5c-8275cd9a1ff3"
   },
   "outputs": [
    {
     "data": {
      "image/png": "[encoded data removed]",
      "text/plain": [
       "<Figure size 432x288 with 1 Axes>"
      ]
     },
     "metadata": {
      "needs_background": "light"
     },
     "output_type": "display_data"
    },
    {
     "data": {
      "image/png": "[encoded data removed]",
      "text/plain": [
       "<Figure size 432x288 with 1 Axes>"
      ]
     },
     "metadata": {
      "needs_background": "light"
     },
     "output_type": "display_data"
    },
    {
     "data": {
      "image/png": "[encoded data removed]",
      "text/plain": [
       "<Figure size 432x288 with 1 Axes>"
      ]
     },
     "metadata": {
      "needs_background": "light"
     },
     "output_type": "display_data"
    },
    {
     "data": {
      "image/png": "[encoded data removed]",
      "text/plain": [
       "<Figure size 432x288 with 1 Axes>"
      ]
     },
     "metadata": {
      "needs_background": "light"
     },
     "output_type": "display_data"
    },
    {
     "name": "stdout",
     "output_type": "stream",
     "text": [
      "The more sample size the closer of the histogram to the true distribution.\n"
     ]
    }
   ],
   "source": [
    "# ANS TODO#3\n",
    "\n",
    "mu, sigma = 0, 1 # mean and standard deviation\n",
    "bin_size = 40\n",
    "\n",
    "for sample_size in [500, 1000, 5000, 10000]:\n",
    "  s = sample_normal(sample_size, mu, sigma)\n",
    "  count, bins, ignored = plt.hist(s, bin_size, density=True)\n",
    "  plt.plot(bins, norm.pdf(bins, mu, sigma), linewidth=2, color='r')\n",
    "  plt.title(f\"sample size = {sample_size}\")\n",
    "  plt.show()\n",
    "\n",
    "print(\"The more sample size the closer of the histogram to the true distribution.\")"
   ]
  },
  {
   "cell_type": "markdown",
   "metadata": {
    "id": "uBSjTKyqvOuK"
   },
   "source": [
    "## Central limit theorem"
   ]
  },
  {
   "cell_type": "markdown",
   "metadata": {
    "id": "E7YV2It_EM_m"
   },
   "source": [
    "In this part we will use the Central Limit Theorem to approximate the true probabity of getting more than 40 heads when an unfair coin, with the probability 0.3 of being head, is tossed 100 times.\n",
    "\n",
    "\n",
    "**TODO#4:** Simulate multiple coin tosses to construct a histrogram from the outcomes. Plot the histogram. Hint: x-axis should represents the number of heads when the coin is tossed 100 times. Does this histogram looks like a normal distribution?"
   ]
  },
  {
   "cell_type": "code",
   "execution_count": null,
   "metadata": {
    "colab": {
     "base_uri": "https://localhost:8080/",
     "height": 281
    },
    "executionInfo": {
     "elapsed": 1621,
     "status": "ok",
     "timestamp": 1637162868344,
     "user": {
      "displayName": "Burin Naowarat",
      "photoUrl": "https://lh3.googleusercontent.com/a/default-user=s64",
      "userId": "04815297264150204280"
     },
     "user_tz": -420
    },
    "id": "M5SoPzpIMiI1",
    "outputId": "78f23bf6-5c04-4c0c-ab79-b4410df0fa6c"
   },
   "outputs": [
    {
     "data": {
      "image/png": "[encoded data removed]",
      "text/plain": [
       "<Figure size 432x288 with 1 Axes>"
      ]
     },
     "metadata": {
      "needs_background": "light"
     },
     "output_type": "display_data"
    }
   ],
   "source": [
    "#ANS TODO#4\n",
    "sample_size=100\n",
    "sample_step=1000\n",
    "\n",
    "sample_data = []\n",
    "\n",
    "for i in range(sample_step):\n",
    "  s = sample_binomial(1, n=sample_size, p=0.3)\n",
    "  sample_data.append(s[0])\n",
    "\n",
    "sample_std = np.std(sample_data)\n",
    "sample_var = np.var(sample_data)\n",
    "sample_mean = np.mean(sample_data)\n",
    "\n",
    "hist, bins = np.histogram(sample_data, bins=100, range=None, normed=None, weights=None, density=True)\n",
    "x_center = (bins[1:] + bins[:-1])/2\n",
    "plt.bar(x_center, hist / hist.sum())\n",
    "plt.plot(x_center, norm.pdf(x_center, sample_mean, sample_std), linewidth=2, color='r')\n",
    "\n",
    "\n",
    "plt.title('sampling distribution')\n",
    "plt.show()"
   ]
  },
  {
   "cell_type": "markdown",
   "metadata": {
    "id": "uuziwG81nfe9"
   },
   "source": [
    "**TODO#5:** Use CLT to find the probability of getting more than 40 heads.\n",
    "\n",
    "**TODO#6:** Compare and find the difference between CLT's approximation and the actual probability using the binomial distribution."
   ]
  },
  {
   "cell_type": "code",
   "execution_count": null,
   "metadata": {
    "colab": {
     "base_uri": "https://localhost:8080/"
    },
    "executionInfo": {
     "elapsed": 64,
     "status": "ok",
     "timestamp": 1637162868345,
     "user": {
      "displayName": "Burin Naowarat",
      "photoUrl": "https://lh3.googleusercontent.com/a/default-user=s64",
      "userId": "04815297264150204280"
     },
     "user_tz": -420
    },
    "id": "vHPuEB7IO5Y7",
    "outputId": "dbe3e45e-641f-4cfe-be74-a5ac586f9e94"
   },
   "outputs": [
    {
     "name": "stdout",
     "output_type": "stream",
     "text": [
      "CLT prob of getting more than 40 heads \t\t: 0.01585117081371512.\n",
      "Theoritical prob of getting more than 40 heads \t: 0.012498407166438241.\n",
      "The difference is \t\t\t\t: 0.0033527636472768796.\n"
     ]
    }
   ],
   "source": [
    "# ANS TODO#5\n",
    "clt = 1-norm.cdf(40, loc=sample_mean, scale=sample_std)\n",
    "print (f\"CLT prob of getting more than 40 heads \\t\\t: {clt}.\")\n",
    "\n",
    "# ANS TODO#6\n",
    "from scipy.stats import binom, norm\n",
    "theory = 1-binom.cdf(40, 100, 0.3, loc=0)\n",
    "print (f\"Theoritical prob of getting more than 40 heads \\t: {theory}.\")\n",
    "\n",
    "print(f\"The difference is \\t\\t\\t\\t: {np.abs(theory-clt)}.\")"
   ]
  },
  {
   "cell_type": "markdown",
   "metadata": {
    "id": "NjIN-y36Hzj2"
   },
   "source": [
    "# Algebra of Random Variables"
   ]
  },
  {
   "cell_type": "markdown",
   "metadata": {
    "id": "3Ff4_Pi9XXnP"
   },
   "source": [
    "Given an independent random variable $X$ and $Y$, such that $X \\sim F$ and $Y \\sim U(3,5)$. The summation of those two is written as $Z = X + Y$ and the PDF of $F$ is defined below.\n",
    "$$\n",
    "F(X) = \n",
    "\\begin{cases}\n",
    "0.1, & -2<=X<=0\\\\\n",
    "0.4, & 0<X<=2 \\\\\n",
    "\\end{cases}\n",
    "$$\n",
    "**TODO#7:** Find $P( 3 < Z < 5 )$."
   ]
  },
  {
   "cell_type": "code",
   "execution_count": null,
   "metadata": {
    "colab": {
     "base_uri": "https://localhost:8080/",
     "height": 362
    },
    "executionInfo": {
     "elapsed": 60,
     "status": "ok",
     "timestamp": 1637162868346,
     "user": {
      "displayName": "Burin Naowarat",
      "photoUrl": "https://lh3.googleusercontent.com/a/default-user=s64",
      "userId": "04815297264150204280"
     },
     "user_tz": -420
    },
    "id": "Di4u_9wMezxF",
    "outputId": "0060efc9-f5f4-4fdb-9b4b-97ebc121b37a"
   },
   "outputs": [
    {
     "name": "stdout",
     "output_type": "stream",
     "text": [
      "Sum of uniform pmf: 1.0000000000000007\n",
      "Sum of normal pmf: 1.0000000000000007\n",
      "Sum of convoluted pmf: 1.0000000000000002\n",
      "Integration of convoluted pdf: 0.9999999999999789\n"
     ]
    },
    {
     "data": {
      "image/png": "[encoded data removed]",
      "text/plain": [
       "<Figure size 432x288 with 1 Axes>"
      ]
     },
     "metadata": {
      "needs_background": "light"
     },
     "output_type": "display_data"
    }
   ],
   "source": [
    "# ANS TODO#7\n",
    "import matplotlib.pyplot as plt\n",
    "import numpy as np\n",
    "import scipy.stats as stats\n",
    "from scipy import signal\n",
    "\n",
    "\n",
    "def dist1_pdf(X):\n",
    "  result = np.zeros(shape=X.shape)\n",
    "  result[(-2 <= X) & (X <= 0)] = 0.1\n",
    "  result[(0 < X) & (X <= 2)] = 0.4\n",
    "  return result\n",
    "\n",
    "\n",
    "dist1 = stats.uniform(loc=-2, scale=4)\n",
    "dist2 = stats.uniform(loc=3, scale=5)\n",
    "\n",
    "delta = 0.01\n",
    "big_grid = np.arange(-12,12, delta)\n",
    "\n",
    "pmf1 = dist1_pdf(big_grid)*delta\n",
    "print(\"Sum of uniform pmf: \"+str(sum(pmf1)))\n",
    "\n",
    "pmf2 = dist2.pdf(big_grid)*delta\n",
    "print(\"Sum of normal pmf: \"+str(sum(pmf2)))\n",
    "\n",
    "\n",
    "# conv_pmf = signal.fftconvolve(pmf1, pmf2,'same')\n",
    "conv_pmf = np.convolve(pmf1, pmf2,'same')\n",
    "print(\"Sum of convoluted pmf: \"+str(sum(conv_pmf)))\n",
    "\n",
    "pdf1 = pmf1/delta\n",
    "pdf2 = pmf2/delta\n",
    "conv_pdf = conv_pmf/delta\n",
    "print(\"Integration of convoluted pdf: \" + str(np.trapz(conv_pdf, big_grid)))\n",
    "\n",
    "\n",
    "plt.plot(big_grid, pdf1, alpha=0.7, label='pdf_X')\n",
    "plt.plot(big_grid, pdf2, alpha=0.7, label='pdf_Y')\n",
    "plt.plot(big_grid, conv_pdf, alpha=0.9, label='pdf_Z')\n",
    "\n",
    "plt.legend(loc='best'), plt.suptitle('PDFs')\n",
    "plt.show()"
   ]
  },
  {
   "cell_type": "code",
   "execution_count": null,
   "metadata": {
    "colab": {
     "base_uri": "https://localhost:8080/"
    },
    "executionInfo": {
     "elapsed": 57,
     "status": "ok",
     "timestamp": 1637162868348,
     "user": {
      "displayName": "Burin Naowarat",
      "photoUrl": "https://lh3.googleusercontent.com/a/default-user=s64",
      "userId": "04815297264150204280"
     },
     "user_tz": -420
    },
    "id": "KhXNtne4epos",
    "outputId": "8b0a3732-6946-4af8-c36b-58706e315b82"
   },
   "outputs": [
    {
     "data": {
      "text/plain": [
       "0.23760600000000004"
      ]
     },
     "execution_count": 11,
     "metadata": {},
     "output_type": "execute_result"
    }
   ],
   "source": [
    "conv_pmf[(3<=big_grid) & (big_grid<=5)].sum()"
   ]
  },
  {
   "cell_type": "markdown",
   "metadata": {
    "id": "i9OpVCQ_vLvR"
   },
   "source": [
    "# Correlation"
   ]
  },
  {
   "cell_type": "markdown",
   "metadata": {
    "id": "JuwXaTlQkzvd"
   },
   "source": [
    "The correlation captures the linear relationshi between two sets of random variables. The higher magnitude of the correlation indicates a stronger relationship.\n",
    "\n",
    "\n",
    "**TODO#8:** Find the correlation of $X$ and $Y = X + A$, given that $X \\sim U(-1,1)$ and \n",
    "1. $A = 10$\n",
    "2. $A \\sim U(-1,1)$\n",
    "3. $A \\sim U(-10,10)$\n",
    "4. $A \\sim U(-100,100)$\n",
    "\n",
    "\n",
    "**TODO#9:** From the results in TODO#8, answer following questions\n",
    "1. Does the correlation decrease as we increase the randomness of A ?\n",
    "2. Explain the result when we change from $A \\sim U(-10,10)$ to $A \\sim U(9090,10010)$. Hint: Compare the result with $A$ and $A + 10000: A \\sim U(-10,10) $"
   ]
  },
  {
   "cell_type": "code",
   "execution_count": null,
   "metadata": {
    "colab": {
     "base_uri": "https://localhost:8080/",
     "height": 316
    },
    "executionInfo": {
     "elapsed": 53,
     "status": "ok",
     "timestamp": 1637162868349,
     "user": {
      "displayName": "Burin Naowarat",
      "photoUrl": "https://lh3.googleusercontent.com/a/default-user=s64",
      "userId": "04815297264150204280"
     },
     "user_tz": -420
    },
    "id": "fK_PY50Zjwgl",
    "outputId": "aa5bccdd-b4c2-4563-ca4d-5c7db4c57827"
   },
   "outputs": [
    {
     "data": {
      "image/png": "[encoded data removed]",
      "text/plain": [
       "<Figure size 432x288 with 1 Axes>"
      ]
     },
     "metadata": {
      "needs_background": "light"
     },
     "output_type": "display_data"
    },
    {
     "name": "stdout",
     "output_type": "stream",
     "text": [
      "Correlation:\n",
      "C\t[-1,1]\t[-10:10]\t[-100:100]\n",
      "1.000\t0.712\t0.042\t\t0.056\n"
     ]
    }
   ],
   "source": [
    "# ANS TODO#8\n",
    "sample_data = 300\n",
    "X = sample_uniform(sample_data, from_x=-1, to_x=1)\n",
    "A = sample_uniform(sample_data, from_x=-1, to_x=1)\n",
    "B = sample_uniform(sample_data, from_x=-10, to_x=10)\n",
    "C = sample_uniform(sample_data, from_x=-100, to_x=100)\n",
    "\n",
    "Y = X+10\n",
    "cor1 = np.corrcoef(X,Y)[0,1]\n",
    "P1 = plt.scatter(X, Y, color='black', alpha=0.3)\n",
    "\n",
    "Y = X+A\n",
    "cor2 = np.corrcoef(X,Y)[0,1]\n",
    "P2 = plt.scatter(X, Y, color='blue', alpha=0.3)\n",
    "\n",
    "Y = X+B\n",
    "cor3 = np.corrcoef(X,Y)[0,1]\n",
    "P3 = plt.scatter(X, Y, color='red', alpha=0.3)\n",
    "\n",
    "Y = X+C\n",
    "cor4 = np.corrcoef(X,Y)[0,1]\n",
    "P4 = plt.scatter(X, Y, color='green', alpha=0.3)\n",
    "\n",
    "\n",
    "plt.ylim(-50, 50)\n",
    "plt.xlim(0, 1)\n",
    "plt.legend((P1, P2, P3, P4),\n",
    "           ('C', '[-1,1]', '[-10:10]', '[-100:100]'),\n",
    "           scatterpoints=1,\n",
    "           loc='lower left',\n",
    "           )\n",
    "\n",
    "plt.show()\n",
    "print(\"Correlation:\")\n",
    "print(\"C\\t[-1,1]\\t[-10:10]\\t[-100:100]\")\n",
    "print(\"{:.3f}\\t{:.3f}\\t{:.3f}\\t\\t{:.3f}\".format(abs(cor1), abs(cor2), abs(cor3), abs(cor4)))"
   ]
  },
  {
   "cell_type": "code",
   "execution_count": null,
   "metadata": {
    "colab": {
     "base_uri": "https://localhost:8080/"
    },
    "executionInfo": {
     "elapsed": 52,
     "status": "ok",
     "timestamp": 1637162868350,
     "user": {
      "displayName": "Burin Naowarat",
      "photoUrl": "https://lh3.googleusercontent.com/a/default-user=s64",
      "userId": "04815297264150204280"
     },
     "user_tz": -420
    },
    "id": "ZOG6althxKe6",
    "outputId": "4ed2915c-8587-4af4-8092-0368cde5f699"
   },
   "outputs": [
    {
     "name": "stdout",
     "output_type": "stream",
     "text": [
      "U[10k-10,10k+10]\t10k+U[-10,10]\tU[-10:10]\n",
      "0.160\t\t\t0.042\t\t0.042\n"
     ]
    }
   ],
   "source": [
    "# ANS TODO#9.1\n",
    "# Yes. For a constant relation (8.1), it is a deterministic change between X and Y, and the correlation between twos is the highest.\n",
    "# As we introduces randomness into the relation, Y can not be derived deterministically from X.\n",
    "# This makes the correlation between X,Y decreases.\n",
    "# If we further add the randomness the correlation is further go downs. At some point, we will not entirely sure if there any relation between two random variables.\n",
    "# Conventionally, we will say that X correlates to Y if their correlation is higher than 0.5.\n",
    "\n",
    "# ANS TODO#9.2\n",
    "D = sample_uniform(sample_data, from_x=10000-10, to_x=10000+10)\n",
    "Y = X+D\n",
    "cor5 = np.corrcoef(X,Y)[0,1]\n",
    "Y = X+B+10000\n",
    "cor6 = np.corrcoef(X,Y)[0,1]\n",
    "\n",
    "print(\"U[10k-10,10k+10]\\t10k+U[-10,10]\\tU[-10:10]\")\n",
    "print(\"{:.3f}\\t\\t\\t{:.3f}\\t\\t{:.3f}\".format(abs(cor5), abs(cor6), abs(cor3)))\n",
    "\n",
    "# Correlations between twos are in the same scales since the their randomness are the same.\n",
    "# The variance of data of two distributions, U[10k-10,10k+10]\tand U[-10,10], are equal.\n",
    "# The difference is the scale of their values."
   ]
  },
  {
   "cell_type": "markdown",
   "metadata": {
    "id": "o1DRnpiEu7US"
   },
   "source": [
    "# Hamtaro and his cloud storage empire.\n",
    "\n"
   ]
  },
  {
   "cell_type": "markdown",
   "metadata": {
    "id": "IBaF48SEIO9X"
   },
   "source": [
    "After the success in the manufacturing business. Hamtaro wants to expand his business into a new sector.\n",
    "Since cloud computing is currently booming, he decides to enter into the cloud storage business.\n",
    "\n",
    "The storage disk that Hamtaro uses can operate only in the temperature of $[0,30]$ degree Celcius. The disk has the prabability of a read failure $P(Fail|t) = \\frac{0.97}{2250}(t-15)^2+0.001$ where $t$ is the operating temperature.\n",
    "<!-- Hamtaro's disks has a special architecture that can be  simultaneously read by infinite requests at the same time. However, a failure of one request will cause all of its parallels to fail. -->\n",
    "\n",
    "Since Hamtoro doesn't want any failures in his service, he decides to buy a super luxury air-conditioning system to control the temperature in his data warehouse. Even if the air conditioner is extremely expensive, the room temperature is still not stable. When Hamtaro tries to set the tempurature to $\\mu$, the actual temperature is random and can be modeled by $t\\sim U(\\mu-1,\\mu+1)$.\n",
    "\n",
    "**TODO#10:** Answer the following questions.\n",
    "1. What is the temperature that Hamtaro should set the air conditioner to? Justify your answer.\n",
    "2. What is the probability of failure at the temperature used in part 1?\n",
    "<!-- 3. If Hamtaro want to handle 10k concurrent requests, what is the minimum disks should Hamtoro has to make 99.99% of disk availability and how should he split the workloads? Hamtaro connects the all the disks in parallel. The read request will fail if all disks fail to be read at the same time. -->\n",
    "3. What is the minimum number of disks that Hamtoro has to use to make sure that the probability of having more than 1 failure in 10k requests is less than 0.01\\%? Hamtaro connects the all the disks in parallel. The read request will fail if all disks fail to at the same time.\n",
    "4. **Extra** The temperature is now modeled by $t\\sim \\mathcal{N}(\\mu,9)$ instead of $t\\sim U(\\mu-1,\\mu+1)$. Repeat question 1-3.\n",
    "\n",
    "**Hint:** `scipy.integrate.quad` can help you do integration."
   ]
  },
  {
   "cell_type": "code",
   "execution_count": null,
   "metadata": {
    "id": "iPGF0Uy0gT9o"
   },
   "outputs": [],
   "source": [
    "# 1. The probability of failure is a parabola with the vertex at 15. This makes any temp. that differs from 15 increases the probability of disk to fail."
   ]
  },
  {
   "cell_type": "code",
   "execution_count": 1,
   "metadata": {
    "colab": {
     "base_uri": "https://localhost:8080/"
    },
    "executionInfo": {
     "elapsed": 1324,
     "status": "ok",
     "timestamp": 1639080087037,
     "user": {
      "displayName": "Burin Naowarat",
      "photoUrl": "https://lh3.googleusercontent.com/a/default-user=s64",
      "userId": "04815297264150204280"
     },
     "user_tz": -420
    },
    "id": "fGwAtuQYPjgi",
    "outputId": "f3fc9204-5c2c-4e2e-d3c1-b9c55dc60df0"
   },
   "outputs": [
    {
     "name": "stdout",
     "output_type": "stream",
     "text": [
      "n disks = 1\n",
      "Failure probability per request = 0.0011437037037037036\n"
     ]
    }
   ],
   "source": [
    "# 2.\n",
    "from scipy.stats import binom\n",
    "from scipy.integrate import quad\n",
    "\n",
    "def pdf(t):\n",
    "  # integrate over the parabola of failure * U(mu-1, mu+1)\n",
    "  return ( 0.97/2250*(t-15)**2 + 0.001 ) * 1/2\n",
    "\n",
    "# The probailibty of one disk to fail if the temperature is set to 15.\n",
    "# which equals to the probailibty of one disk to fail if the room temperature is uniformly distribution between [15-1, 15+1].\n",
    "# which equal to = sum_{t} P(fail|t)P(t) for t in [14,16].\n",
    "p_fail, error = quad(pdf, 14, 16) # set mu  as 15\n",
    "\n",
    "# The probability of the system failure equals to the probability all disks fail simulteneously.\n",
    "p_alldisk_fail = p_fail\n",
    "print('n disks =', 1)\n",
    "print('Failure probability per request =', p_alldisk_fail)"
   ]
  },
  {
   "cell_type": "code",
   "execution_count": null,
   "metadata": {
    "colab": {
     "base_uri": "https://localhost:8080/"
    },
    "executionInfo": {
     "elapsed": 309,
     "status": "ok",
     "timestamp": 1639080092183,
     "user": {
      "displayName": "Burin Naowarat",
      "photoUrl": "https://lh3.googleusercontent.com/a/default-user=s64",
      "userId": "04815297264150204280"
     },
     "user_tz": -420
    },
    "id": "DyF4s4HJWHhy",
    "outputId": "27d8013f-70ae-4688-bd8f-43178f322e5d"
   },
   "outputs": [
    {
     "name": "stdout",
     "output_type": "stream",
     "text": [
      "n disks = 1\n",
      "Failure probability per request = 0.0011437037037037036\n",
      "Probability of having more than 1 fail per 10k request = 0.9999892819606864\n",
      "n disks = 2\n",
      "Failure probability per request = 1.3080581618655692e-06\n",
      "Probability of having more than 1 fail per 10k request = 0.012995411056608508\n",
      "n disks = 3\n",
      "Failure probability per request = 1.49603096438551e-09\n",
      "Probability of having more than 1 fail per 10k request = 1.4960197764035676e-05\n"
     ]
    }
   ],
   "source": [
    "# 3.\n",
    "from scipy.stats import binom\n",
    "from scipy.integrate import quad\n",
    "\n",
    "def pdf(t):\n",
    "  # integrate over the parabola of failure * U(mu-1, mu+1)\n",
    "  return ( 0.97/2250*(t-15)**2 + 0.001 ) * 1/2\n",
    "\n",
    "# The probailibty of one disk to fail if the temperature is set to 15.\n",
    "# which equals to the probailibty of one disk to fail if the room temperature is uniformly distribution between [15-1, 15+1].\n",
    "# which equal to = sum_{t} P(fail|t)P(t) for t in [14,16].\n",
    "p_fail, error = quad(pdf, 14, 16) # set mu  as 15\n",
    "for i in range(1, 10):\n",
    "  # The probability of the system failure equals to the probability all disks fail simulteneously.\n",
    "  p_alldisk_fail = p_fail ** i\n",
    "  # We would like to find n_disk such that P(#fail >= 2 | #req = 10k ) <= 0.01%.\n",
    "  # We've got confidence = 1 - P(#fail <= 1) = P(#fail >= 2)\n",
    "  confidence = 1 - binom.cdf(1, 10000, p_alldisk_fail) #; use cdf(0, 10k) for `at least` 1 fail/10k.\n",
    "  print('n disks =', i)\n",
    "  print('Failure probability per request =', p_alldisk_fail)\n",
    "  print('Probability of having more than 1 fail per 10k request =', confidence)\n",
    "  if (confidence <= 0.0001):\n",
    "    break"
   ]
  },
  {
   "cell_type": "code",
   "execution_count": null,
   "metadata": {
    "colab": {
     "base_uri": "https://localhost:8080/"
    },
    "executionInfo": {
     "elapsed": 11,
     "status": "ok",
     "timestamp": 1639080087039,
     "user": {
      "displayName": "Burin Naowarat",
      "photoUrl": "https://lh3.googleusercontent.com/a/default-user=s64",
      "userId": "04815297264150204280"
     },
     "user_tz": -420
    },
    "id": "xLe_6H6sWtsh",
    "outputId": "9b85472c-094e-423c-d468-3becfffaa4a8"
   },
   "outputs": [
    {
     "name": "stdout",
     "output_type": "stream",
     "text": [
      "n disks = 1\n",
      "bernoulli success_p = 0.9988562962962962\n",
      "prob at success<=9998/10000 = 0.9998665589893753\n",
      "n disks = 2\n",
      "bernoulli success_p = 0.9999986919418381\n",
      "prob at success<=9998/10000 = 8.480008480262605e-05\n"
     ]
    }
   ],
   "source": [
    "from scipy.stats import binom\n",
    "from scipy.integrate import quad\n",
    "import numpy as np\n",
    "\n",
    "# Another perspective\n",
    "for n in range(1, 5):\n",
    "    pdf = lambda t : ( 0.97/2250*(t-15)**2 + 0.001 ) * 0.5\n",
    "    p_fail,err = quad(pdf,14,16)\n",
    "    p_success = 1 - p_fail ** n\n",
    "    # P(#fail >= 2) = P(#success <= 9998 | #req = 10k) #; use P(#success <= 9999 | #nreq = 10k) for `at least` 1 fail/10k.\n",
    "    success_confidence = binom.cdf(9998, 10000, p_success) #allow to fail 2, 1, 0 times\n",
    "    print('n disks =', n)\n",
    "    print('bernoulli success_p =', p_success)\n",
    "    print('prob at success<=9998/10000 =', success_confidence)\n",
    "    if (success_confidence <= 0.0001):\n",
    "        break\n",
    "\n",
    "assert success_confidence - confidence < 1e-7"
   ]
  },
  {
   "cell_type": "code",
   "execution_count": null,
   "metadata": {
    "colab": {
     "base_uri": "https://localhost:8080/"
    },
    "executionInfo": {
     "elapsed": 916,
     "status": "ok",
     "timestamp": 1637221050577,
     "user": {
      "displayName": "Burin Naowarat",
      "photoUrl": "https://lh3.googleusercontent.com/a/default-user=s64",
      "userId": "04815297264150204280"
     },
     "user_tz": -420
    },
    "id": "8QyRF9SyR_Z1",
    "outputId": "bc55a44c-af9e-4181-8019-29140152aa6a"
   },
   "outputs": [
    {
     "name": "stdout",
     "output_type": "stream",
     "text": [
      "n disks = 1\n",
      "Failure probability per request = 0.004879939517563487\n",
      "Probability of having more than 1 fail per 10k request = 1.0\n",
      "n disks = 2\n",
      "Failure probability per request = 2.3813809695077754e-05\n",
      "Probability of having more than 1 fail per 10k request = 0.02422927753521875\n",
      "n disks = 3\n",
      "Failure probability per request = 1.1620995099474642e-07\n",
      "Probability of having more than 1 fail per 10k request = 6.746473675267595e-07\n"
     ]
    }
   ],
   "source": [
    "# 4.1 15\n",
    "# 4.2 0.001\n",
    "\n",
    "from scipy.stats import binom, norm\n",
    "from scipy.integrate import quad\n",
    "import numpy as np\n",
    "\n",
    "def pdf(t):\n",
    "  # integrate over parabola * N(mu, std)\n",
    "  std = 3\n",
    "  mu= 15\n",
    "  return ( 0.97/2250*(t-15)**2 + 0.001 ) * norm.pdf(t, mu, std)\n",
    "\n",
    "p_fail, error = quad(pdf, 0, 30)\n",
    "\n",
    "for i in range(1, 10):\n",
    "  p_alldisk_fail = p_fail**i\n",
    "  # We've got confidence = 1 - P(#fail <= 1) = P(#fail >= 2)\n",
    "  confidence = 1 - binom.cdf(1, 10000, p_alldisk_fail) #; use cdf(0, 10k) for `at least` 1 fail.\n",
    "  print('n disks =', i)\n",
    "  print('Failure probability per request =', p_alldisk_fail)\n",
    "  print('Probability of having more than 1 fail per 10k request =', confidence)\n",
    "  if (confidence <= 0.0001):\n",
    "    break"
   ]
  },
  {
   "cell_type": "markdown",
   "metadata": {
    "id": "YWQenJlPnGIN"
   },
   "source": [
    "# Moontaro\n",
    "![picture](https://i.redd.it/mcveltqx2j071.png)\n",
    "\n",
    "Recently, cryptocurrency investment has become extremely popular due to its extraordinarily high rates of return. Though many people consider it a risky investment, Hamtaro does not want to miss this opportunity and start gathering information about these coins. His research suggests that four coins, namely $a$, $b$, $c$, and $d$, have a promising future to go to the moon.\n",
    "\n",
    "\n",
    "Hamtaro wants to run simulations to validate his chances. As the value of the coins is non-deterministic, he models it sequentially based on their historical values (a.k.a. autoregressive model). The price of coin $i$ at day $t$ is formulated as \n",
    "\n",
    "$p_{i,t} = p_{i,t-1} \\times r_{i,t}$, where $i \\in \\{a, b, c, d\\}$, and  $p_{i, 0} = 10$. \n",
    "\n",
    "The rates $r_{i,t}$, are drawn from a multivariant guassian distribution $\\mathcal{N}(\\mathbf{\\mu}, \\mathbf{\\Sigma})$, where $\\mu = [1.003, 1.002, 1.004, 1.004]^T$ and $\\mathbf{\\Sigma}$ as given below:\n",
    "\n",
    "$\\mathbf{\\Sigma}$ | a | b | c | d\n",
    "--- | --- | --- | --- |---\n",
    "a |  10 x 10$^{-3}$ | 0 | 4 x 10$^{-3}$ | 5 x 10$^{-3}$\n",
    "b |  0  | 3 x 10$^{-3}$ | 0 | 0\n",
    "c |  4 x 10$^{-3}$  | 0 | 12 x 10$^{-3}$| 2 x 10$^{-3}$\n",
    "d |  5 x 10$^{-3}$  | 0 | 2 x 10$^{-3}$ | 15 x 10$^{-3}$\n",
    "\n",
    "\n",
    "<!-- 1. Are $p_{a,t}$ and $p_{b,t}$ independent ? Why ?\n",
    "2. Are $p_{a,t}$ and $p_{c,t}$ independent ? Why ?\n",
    "3. Are $p_{a,t}$ and $p_{d,t}$ independent ? Why ? -->\n",
    "\n",
    "**TODO11:**\n",
    "1. Which pairs of coins are independent? Why?\n",
    "2. Given the following definitions: \n",
    "  - <b>Return</b> :  a coin price at day $T$ minus the price at day 0, i.e., the return of coin $i$ at day $T = p_{i,T} - p_{i, 0}$.\n",
    "  - <b>Expected return</b> : the average return from 10000 distinct simulated end prices.\n",
    "  \n",
    "  Simulate the expected return for each coin if Hamtaro wants to sell his coins 30 and 180 days after buying $(T \\in \\{30, 180\\})$. \n",
    "  hint: you should write reusable functions to make your life easier.\n",
    "3. Which coin has the highest probability of having profit (end price is higher than start price)? Compare the variance of the return with other coins.\n",
    "4. How can the expected return be positive while having around 50\\% chance of profitability?\n",
    "\n",
    "After simulating the price of individual coins, Hamtaro now proposes seven investment strategies (portfolio) to maximize the profit. The detail of each strategy is shown in the table below.  \n",
    "\n",
    "Strategy | Buy $a$ | Buy $b$ | Buy $c$ | Buy $d$ | Expected\\[return\\] | Variance\\[return\\] | Probability of having profit\n",
    "---| --- |--- |--- | ---| --- | --- | ---\n",
    "1  | 100% | 0%   | 0%  |    0%|  |  | \n",
    "2  | 0%   | 100% | 0%  |    0%|  |  |\n",
    "3  | 0%   | 0%   | 100%|    0%|  |  |\n",
    "4  | 0%   | 0%   |   0%|  100%|  |  |\n",
    "5  | 50%  | 50%  | 0%  |    0%|  |  |\n",
    "6  | 50%  | 0%   | 50% |    0%|  |  |\n",
    "7  | 50%  | 0%   |  0% |   50%|  |  |\n",
    "\n",
    "5. Fill the empty values in the table (both $T = 30, 180$).\n",
    "6. Which strategy yields the highest return? \n",
    "7. Which strategy is the safest one? \n",
    "8. Compare the variances between the stategy 6 and 7. What happens, and why is this the case? **Hint:** Consider cov($r_a$, $r_c$) and cov($r_a$, $r_d$).\n",
    "9. From the problems above, come up with a general practice for good investment? Please also state your reasoning. You can include additional simulations to support the argument."
   ]
  },
  {
   "cell_type": "markdown",
   "metadata": {
    "id": "ZxF-ohX1wW5G"
   },
   "source": [
    "#### Setups"
   ]
  },
  {
   "cell_type": "code",
   "execution_count": null,
   "metadata": {
    "id": "nXih8wKUmrBh"
   },
   "outputs": [],
   "source": [
    "import numpy as np\n",
    "coin_name = ['a', 'b', 'c', 'd']\n",
    "init_prices = np.array([10, 10, 10, 10])\n",
    "\n",
    "rate_mean = np.array([ 1.003, 1.002, 1.004, 1.004])\n",
    "rate_cov  = np.array([\n",
    "                [10, 0, 4, 5],\n",
    "                [ 0, 3, 0, 0],\n",
    "                [ 4, 0,12, 2],\n",
    "                [ 5, 0, 2,12],\n",
    "                ])/1000\n"
   ]
  },
  {
   "cell_type": "code",
   "execution_count": null,
   "metadata": {
    "id": "EOrf3QMMs4Mk"
   },
   "outputs": [],
   "source": [
    "# P1. b is indenpedence to other coins as it has covariace 0"
   ]
  },
  {
   "cell_type": "code",
   "execution_count": null,
   "metadata": {
    "id": "vO4_4wjkGlTU"
   },
   "outputs": [],
   "source": [
    "# P2.\n",
    "from tqdm import tqdm\n",
    "import numpy as np\n",
    "\n",
    "get_profit_prob = lambda coin_return : (coin_return > 0).sum()/len(coin_return)\n",
    "\n",
    "def get_rates():\n",
    "  from scipy.stats import multivariate_normal\n",
    "  rates = multivariate_normal.rvs(rate_mean, rate_cov, size=1)\n",
    "  return np.maximum(0, rates)\n",
    "\n",
    "# Just a placeholder\n",
    "def get_coin_price(prev_p: np.array) -> (float, float):\n",
    "  rates = get_rates()\n",
    "  return prev_p * rates, rates\n",
    "\n",
    "def get_returns(n_days: int = 10, n_trials: int = 10000) -> np.array:\n",
    "  N_coins = len(init_prices)\n",
    "  returns = np.zeros((N_coins, n_trials))\n",
    "\n",
    "  for nt in tqdm(range(n_trials), disable=False):\n",
    "    prices = np.zeros((N_coins, n_days + 1))\n",
    "    rates  = np.zeros((N_coins, n_days + 1))\n",
    "    prices[:,0] = init_prices\n",
    "\n",
    "    for t in range(1, n_days+1):\n",
    "      prices[:, t], rates[:, t] = get_coin_price(prices[:, t-1])\n",
    "\n",
    "    returns[:, nt] = prices[:, n_days] - prices[:, 0]\n",
    "  return returns"
   ]
  },
  {
   "cell_type": "markdown",
   "metadata": {
    "id": "9U9oPITvWuiV"
   },
   "source": [
    "#### Stats for each coin"
   ]
  },
  {
   "cell_type": "code",
   "execution_count": null,
   "metadata": {
    "colab": {
     "base_uri": "https://localhost:8080/"
    },
    "executionInfo": {
     "elapsed": 258457,
     "status": "ok",
     "timestamp": 1637163126775,
     "user": {
      "displayName": "Burin Naowarat",
      "photoUrl": "https://lh3.googleusercontent.com/a/default-user=s64",
      "userId": "04815297264150204280"
     },
     "user_tz": -420
    },
    "id": "8CFW6p6IIwkD",
    "outputId": "c0b92a6c-1f1d-4479-8d03-f2d3732cac59"
   },
   "outputs": [
    {
     "name": "stderr",
     "output_type": "stream",
     "text": [
      "100%|██████████| 10000/10000 [00:37<00:00, 265.95it/s]\n"
     ]
    },
    {
     "name": "stdout",
     "output_type": "stream",
     "text": [
      "\n",
      "n_days=30\n",
      "Coin\tAvg_returns\tVariances\tProfit_probaility\n",
      "a\t8.61625e-01\t3.97016e+01\t0.4582\n",
      "b\t6.45763e-01\t1.07026e+01\t0.5241\n",
      "c\t1.29915e+00\t5.43100e+01\t0.4631\n",
      "d\t1.30357e+00\t5.72325e+01\t0.4597\n"
     ]
    },
    {
     "name": "stderr",
     "output_type": "stream",
     "text": [
      "100%|██████████| 10000/10000 [03:41<00:00, 45.17it/s]"
     ]
    },
    {
     "name": "stdout",
     "output_type": "stream",
     "text": [
      "\n",
      "n_days=180\n",
      "Coin\tAvg_returns\tVariances\tProfit_probaility\n",
      "a\t7.18410e+00\t1.43271e+03\t0.3975\n",
      "b\t4.38381e+00\t1.47064e+02\t0.5519\n",
      "c\t1.13558e+01\t4.45685e+03\t0.4133\n",
      "d\t1.08847e+01\t4.64442e+03\t0.4093\n"
     ]
    },
    {
     "name": "stderr",
     "output_type": "stream",
     "text": [
      "\n"
     ]
    }
   ],
   "source": [
    "# P2.\n",
    "days_choices = [30, 180]\n",
    "return_of_days = dict()\n",
    "\n",
    "for n_days in days_choices:\n",
    "  return_of_days[n_days] = get_returns(n_days, n_trials=10000)\n",
    "  print(\"\\nn_days={}\".format(n_days))\n",
    "  print(\"Coin\\tAvg_returns\\tVariances\\tProfit_probaility\")\n",
    "  for coin in range(len(coin_name)):\n",
    "    coin_return = return_of_days[n_days][coin]\n",
    "    print(\"{}\\t{:.5e}\\t{:.5e}\\t{}\".format(\n",
    "        coin_name[coin],\n",
    "        np.mean(coin_return),\n",
    "        np.var(coin_return),\n",
    "        get_profit_prob(coin_return)\n",
    "    ))"
   ]
  },
  {
   "cell_type": "code",
   "execution_count": null,
   "metadata": {
    "id": "h7t9SDj7tidM"
   },
   "outputs": [],
   "source": [
    "# P3. Coin b has the highest profit probability, and it has the smallest variance.\n",
    "# P4. The expected return is positive even the profit probability is less than 0.5 because the profit margin is high.\n",
    "#     The money Hamtaro get from one time winning is more than money he will lose by many losing rounds."
   ]
  },
  {
   "cell_type": "markdown",
   "metadata": {
    "id": "B7kvptBkwfSm"
   },
   "source": [
    "#### Portforlio"
   ]
  },
  {
   "cell_type": "code",
   "execution_count": null,
   "metadata": {
    "colab": {
     "base_uri": "https://localhost:8080/"
    },
    "executionInfo": {
     "elapsed": 15,
     "status": "ok",
     "timestamp": 1637163126777,
     "user": {
      "displayName": "Burin Naowarat",
      "photoUrl": "https://lh3.googleusercontent.com/a/default-user=s64",
      "userId": "04815297264150204280"
     },
     "user_tz": -420
    },
    "id": "SSyVZaTjUDCj",
    "outputId": "505d6925-0ebe-451d-876d-9bdc6f73f176"
   },
   "outputs": [
    {
     "name": "stdout",
     "output_type": "stream",
     "text": [
      "days 30\n",
      "port\t\t\texp_return\tvariance\tprofit_prob\n",
      "[1. 0. 0. 0.]   \t8.616253e-01\t3.970157e+01\t0.4582\n",
      "[0. 1. 0. 0.]   \t6.457630e-01\t1.070255e+01\t0.5241\n",
      "[0. 0. 1. 0.]   \t1.299147e+00\t5.430997e+01\t0.4631\n",
      "[0. 0. 0. 1.]   \t1.303567e+00\t5.723249e+01\t0.4597\n",
      "[0.5 0.5 0.  0. ]   \t7.536941e-01\t1.251740e+01\t0.5181\n",
      "[0.5 0.  0.5 0. ]   \t1.080386e+00\t3.156882e+01\t0.4936\n",
      "[0.5 0.  0.  0.5]   \t1.082596e+00\t3.404469e+01\t0.4863\n",
      "days 180\n",
      "port\t\t\texp_return\tvariance\tprofit_prob\n",
      "[1. 0. 0. 0.]   \t7.184097e+00\t1.432714e+03\t0.3975\n",
      "[0. 1. 0. 0.]   \t4.383805e+00\t1.470641e+02\t0.5519\n",
      "[0. 0. 1. 0.]   \t1.135578e+01\t4.456845e+03\t0.4133\n",
      "[0. 0. 0. 1.]   \t1.088473e+01\t4.644424e+03\t0.4093\n",
      "[0.5 0.5 0.  0. ]   \t5.783951e+00\t3.950007e+02\t0.5506\n",
      "[0.5 0.  0.5 0. ]   \t9.269937e+00\t1.652820e+03\t0.473\n",
      "[0.5 0.  0.  0.5]   \t9.034416e+00\t1.732684e+03\t0.4627\n"
     ]
    }
   ],
   "source": [
    "# P5.\n",
    "portforlio = np.array([\n",
    "              [1.0, 0.0, 0.0, 0.0],\n",
    "              [0.0, 1.0, 0.0, 0.0],\n",
    "              [0.0, 0.0, 1.0, 0.0],\n",
    "              [0.0, 0.0, 0.0, 1.0],\n",
    "              [0.5, 0.5, 0.0, 0.0],\n",
    "              [0.5, 0.0, 0.5, 0.0],\n",
    "              [0.5, 0.0, 0.0, 0.5],\n",
    "])\n",
    "\n",
    "\n",
    "for d in [30, 180]:\n",
    "  return_of_coins = return_of_days[d]\n",
    "  print(f\"days {d}\")\n",
    "  print(\"port\\t\\t\\texp_return\\tvariance\\tprofit_prob\")\n",
    "  for port in portforlio:\n",
    "    weighted_return = np.array([port[i] * return_of_coins[i] for i in range(len(coin_name))]).sum(axis=0)\n",
    "\n",
    "    port_return = weighted_return.mean()\n",
    "    port_var = weighted_return.var()\n",
    "    port_profit_prob = get_profit_prob(weighted_return)\n",
    "\n",
    "    print(\"{}   \\t{:e}\\t{:e}\\t{}\".format(port, port_return, port_var, port_profit_prob))"
   ]
  },
  {
   "cell_type": "code",
   "execution_count": null,
   "metadata": {
    "id": "YmBGwH9ZzrEH"
   },
   "outputs": [],
   "source": [
    "# P6. Strategy 4 and 3 yield the highest return for 30 and 180 days, respectively.\n",
    "# P7. Strategy 5 as it has the highest profit probability per round.\n",
    "# P8. Variance of (a, c) is less than variance of (a, d). This is because cov(a, d) is larger than cov(a,c).\n",
    "#     This property is stated in https://en.wikipedia.org/wiki/Variance#Basic_properties.\n",
    "# P9. Follow your guts, do whatever you want.\n"
   ]
  }
 ],
 "metadata": {
  "colab": {
   "collapsed_sections": [],
   "name": "Probability solve.ipynb",
   "provenance": [
    {
     "file_id": "1XT6NaKvvu7czEddiFk3L3-LwKwgnhiXv",
     "timestamp": 1603813320957
    }
   ]
  },
  "kernelspec": {
   "display_name": "datascience",
   "language": "python",
   "name": "python3"
  },
  "language_info": {
   "name": "python",
   "version": "3.9.7"
  }
 },
 "nbformat": 4,
 "nbformat_minor": 0
}
