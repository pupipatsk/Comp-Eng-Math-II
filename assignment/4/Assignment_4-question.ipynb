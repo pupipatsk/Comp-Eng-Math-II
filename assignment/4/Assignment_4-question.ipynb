{
  "cells": [
    {
      "cell_type": "markdown",
      "metadata": {
        "id": "8zm5YrzyZFvC"
      },
      "source": [
        "# **<<< Only Problem 1.1 and 2.1  will be graded >>>**"
      ]
    },
    {
      "cell_type": "markdown",
      "metadata": {
        "id": "2rJxI335Amug"
      },
      "source": [
        "\n",
        "## Problem 1.1  (DFT)\n",
        "\n",
        "Given the DFT spectrum $X[k]$, express the corresponding time-domain signal\n",
        "$x[n]$ in terms of its constituent real sinusoids.\n",
        "\n",
        "1. $X[0]=3,X[1]= \\frac{1}{\\sqrt{2}}−j\\frac{1}{\\sqrt{2}} ,X[2]=−2,\n",
        "X[3]= \\frac{1}{\\sqrt{2}}+j\\frac{1}{\\sqrt{2}}$\n",
        "\n",
        "2. $X[0]=-2,X(1)= \\sqrt{3}+j1 ,X[2]=3,X[3]= \\sqrt{3}-j1$\n",
        "\n",
        "3. $X[0]=1,X[1]= 2-j2\\sqrt{3} ,X[2]=-3,X[3]= 2+j2\\sqrt{3}$"
      ]
    },
    {
      "cell_type": "markdown",
      "metadata": {
        "id": "xirisxQ_nsre"
      },
      "source": [
        "## Problem 1.2 (DFT) (Optional)\n",
        "Show that if $x[n]$ is real sequence, $X[N-k]=X^{*}[k]$"
      ]
    },
    {
      "cell_type": "markdown",
      "metadata": {
        "id": "tBn1ddc3FNT3"
      },
      "source": [
        "## Problem 2.1 (DTFT)\n",
        "\n",
        "Use the properties of the discrete-time transform to determine $X(e^{j\\omega})$ for the following sequences\n",
        "\n",
        "1. $x[n] = \\left( \\frac{1}{3} \\right)^{|n|}$\n",
        "\n",
        "2. $x[n] = a^{n} \\cos (\\Omega_0 n) \\cdot  u[n] , \\, |a|< 1 $\n",
        "\n",
        "3. $x[n] =  (n+1)a^n \\cdot u[n], \\, |a|< 1 $"
      ]
    },
    {
      "cell_type": "markdown",
      "metadata": {
        "id": "X8BQTqRyc70o"
      },
      "source": [
        "## Problem 2.2 (DTFT)\n",
        "\n",
        "Find the discrete-time sequence $x[n]$ with tranforms in range $0 \\leq \\omega < 2\\pi$ as follows\n",
        "\n",
        "1. $X(e^{j\\omega}) = -j\\pi\\delta \\left( \\omega - \\frac{\\pi}{3} \\right) + \\pi\\delta \\left( \\omega - \\frac{2\\pi}{3} \\right) + \\pi\\delta \\left( \\omega - \\frac{4\\pi}{3} \\right) + j\\pi\\delta \\left( \\omega - \\frac{5\\pi}{3} \\right) $\n",
        "\n",
        "2. $X(e^{j\\omega}) = \\frac{1 - \\frac{5}{6}e^{-j\\omega}}{1 + \\frac{1}{12}e^{-j\\omega} - \\frac{1}{12}e^{-j2\\omega} }$"
      ]
    },
    {
      "cell_type": "markdown",
      "metadata": {
        "id": "CGt0xUUOFscE"
      },
      "source": [
        "## Problem 2.3 (DTFT)\n",
        "\n",
        "Using the DTFT, find the impulse response ($h[n]$) of the system governed by the difference equation\n",
        "\n",
        "1. $y(n) = x[n] -4x[n-1] + \\frac{11}{12}  y[n-1] + \\frac{1}{12} y[n-2]$\n",
        "2. $y(n) = x[n] - \\frac{11}{15} y[n-1] + \\frac{2}{15}y[n-2]$\n",
        "\n",
        "and find output with $x[n]= (1/2)^n u[n]$"
      ]
    }
  ],
  "metadata": {
    "colab": {
      "provenance": []
    },
    "kernelspec": {
      "display_name": "Python 3",
      "name": "python3"
    }
  },
  "nbformat": 4,
  "nbformat_minor": 0
}
