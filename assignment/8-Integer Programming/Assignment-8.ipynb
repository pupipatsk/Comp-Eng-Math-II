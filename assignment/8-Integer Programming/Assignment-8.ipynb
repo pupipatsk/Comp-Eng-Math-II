{
  "cells": [
    {
      "cell_type": "markdown",
      "metadata": {
        "id": "RXCVGID3wsii"
      },
      "source": [
        "# <b> Only problem 1 and 6 will be graded. </b>"
      ]
    },
    {
      "cell_type": "markdown",
      "metadata": {
        "id": "MZk9zl2FjBJJ"
      },
      "source": [
        "## Problem 1 : Integer program\n",
        "\n",
        "\n",
        "Solve the following program by using linprog function and branch and bound method:\n",
        "$$Objective : max(3x + 4y) $$\n",
        "$$\\begin{equation*}\n",
        "s.t.\n",
        "\\begin{split}\n",
        "  x + 2y & \\leq 7 \\\\\n",
        "  3x  - y & \\geq 0 \\\\\n",
        "  x -  y & \\leq  2 \\\\\n",
        "  x, y  \\in Z^+ \\cup \\{0\\} \\\\\n",
        "\\end{split}\n",
        "\\end{equation*}$$\n",
        "\n",
        "\n"
      ]
    },
    {
      "cell_type": "markdown",
      "metadata": {},
      "source": [
        "    Solution:"
      ]
    },
    {
      "cell_type": "markdown",
      "metadata": {},
      "source": [
        "scipy.optimize.linprog: **minimize** a linear objective function subject to linear equality and inequality constraints."
      ]
    },
    {
      "cell_type": "markdown",
      "metadata": {},
      "source": [
        "$$Objective : min(-3x-4y) $$\n",
        "$$\\begin{equation*}\n",
        "\\begin{split}\n",
        "  x + 2y & \\leq 7 \\\\\n",
        "  -3x + y & \\leq 0 \\\\\n",
        "  x -  y & \\leq  2 \\\\\n",
        "  x, y &\\geq 0 \\\\\n",
        "\\end{split}\n",
        "\\end{equation*}$$"
      ]
    },
    {
      "cell_type": "code",
      "execution_count": 3,
      "metadata": {
        "id": "58c9u8IC1aFq"
      },
      "outputs": [
        {
          "name": "stdout",
          "output_type": "stream",
          "text": [
            "Optimal value: 17.666666666666668, x: 3.6666666666666665, y: 1.6666666666666667\n"
          ]
        }
      ],
      "source": [
        "import numpy as np\n",
        "from scipy.optimize import linprog\n",
        "\n",
        "c = [-3, -4]\n",
        "\n",
        "A = [[1, 2],\n",
        "     [-3, 1],\n",
        "     [1, -1]]\n",
        "\n",
        "b = [7, 0, 2]\n",
        "\n",
        "x_bounds = (0, None)\n",
        "y_bounds = (0, None)\n",
        "\n",
        "result = linprog(c, A_ub=A, b_ub=b, bounds=[x_bounds, y_bounds], method='highs')\n",
        "\n",
        "print(f\"Optimal value: {-result.fun}, x: {result.x[0]}, y: {result.x[1]}\")"
      ]
    },
    {
      "cell_type": "code",
      "execution_count": 7,
      "metadata": {},
      "outputs": [
        {
          "name": "stdout",
          "output_type": "stream",
          "text": [
            "Subproblem 1 (x <= 3): Optimal value: 17.0, x: 3.0, y: 2.0\n"
          ]
        }
      ],
      "source": [
        "# Subproblem 1: x <= 3\n",
        "\n",
        "x_bounds_sub1 = (0, 3)\n",
        "\n",
        "result_sub1 = linprog(c, A_ub=A, b_ub=b, bounds=[x_bounds_sub1, y_bounds], method='highs')\n",
        "\n",
        "print(f\"Subproblem 1 (x <= 3): Optimal value: {-result_sub1.fun}, x: {result_sub1.x[0]}, y: {result_sub1.x[1]}\")"
      ]
    },
    {
      "cell_type": "code",
      "execution_count": 8,
      "metadata": {},
      "outputs": [
        {
          "name": "stdout",
          "output_type": "stream",
          "text": [
            "Subproblem 2 (x >= 4): No feasible solution.\n"
          ]
        }
      ],
      "source": [
        "# Subproblem 2: x >= 4\n",
        "\n",
        "x_bounds_sub2 = (4, None)\n",
        "\n",
        "result_sub2 = linprog(c, A_ub=A, b_ub=b, bounds=[x_bounds_sub2, y_bounds], method='highs')\n",
        "\n",
        "if result_sub2.success:\n",
        "    print(f\"Subproblem 2 (x >= 4): Optimal value: {-result_sub2.fun}, x: {result_sub2.x[0]}, y: {result_sub2.x[1]}\")\n",
        "else:\n",
        "    print(\"Subproblem 2 (x >= 4): No feasible solution.\")"
      ]
    },
    {
      "cell_type": "markdown",
      "metadata": {},
      "source": [
        "**Conclusion**:\n",
        "\n",
        "Since Subproblem 1 provides a feasible integer solution\\\n",
        "and Subproblem 2 has no feasible solution,\\\n",
        "the optimal integer solution to the original problem is:\n",
        "\n",
        "$$\\therefore \\text{Optimal value}= 17,\\quad x= 3,\\quad y= 2$$"
      ]
    },
    {
      "cell_type": "markdown",
      "metadata": {
        "id": "lYrVL4IDLjma"
      },
      "source": [
        "# For problem 2-6: you can use Excel to find the answer."
      ]
    },
    {
      "cell_type": "markdown",
      "metadata": {
        "id": "m4rcUdJziDGP"
      },
      "source": [
        "# Problem 6 : Instraham\n",
        "\n",
        "\n",
        "After several crises, Hamtaro is fed up with the manufacturing business and is now looking for new business opportunities. He finds out that opening social media platform could make a hefty sum of money. Moreover, since hamsters do not currently have a social media site, Hamtaro can monopolize the market easily. Therefore, he creates Instraham, the first social media website of hamsters, by hamsters, for hamsters.\n",
        "\n",
        "After consulting with Koushi-kun, Hamtaro figures out that social network platforms often have the features shown in the table below. For each feature, the CPU load and storage load are shown with its associated business value score.\n",
        "\n",
        "|Feature name| CPU load (%) | storage load (%) | business value score |\n",
        "|:-:|:-:|:-:|:-:|\n",
        "| A | 20 | 30| 10|\n",
        "| B | 10 | 5| 5|\n",
        "| C| 30 | 10| 10|\n",
        "| D | 5 | 10| 3|\n",
        "| F | 15 | 30| 10|\n",
        "| G | 60 | 70| 30|\n",
        "| H | 80 | 80| 80|\n",
        "| I | 10 | 50| 20|\n",
        "| J | 3 | 50| 5|\n",
        "\n",
        "Feature A, and J is mandatory while the rest is optional. The objective is to maximize the business value score of the website while not overloading CPU and storage servers. His engineering friend, Taisho-kun, also suggests him that he could improve the website efficiency by performing the following operations:\n",
        "\n",
        "- Feature compression. This method will reduce both CPU and storage load by half, but it also reduces the business value to 55% of the original value. Every feature could be compressed, but the number of compressed features in the website is limited to two.\n",
        "\n",
        "-  The usage of storage efficient algorithm. By using this method, the feature storage load is reduced by half but it also doubles the CPU load. However, only feature H, I, J can use this method. This method could not be used concurrently with feature compression.\n",
        "\n",
        "From this information, which features should Hamtaro develop? ~~Use Amdahl's law to find the best speedup~~. Formulate the problem as an integer program and solve for an optimal solution.\n",
        "\n",
        "<b> Note : This problem is based on the blog (https://engineering.fb.com/2021/07/29/data-infrastructure/linear-programming/) </b>\n"
      ]
    },
    {
      "cell_type": "code",
      "execution_count": null,
      "metadata": {
        "id": "9TRfSU0q5XPQ"
      },
      "outputs": [],
      "source": [
        "pass"
      ]
    }
  ],
  "metadata": {
    "colab": {
      "collapsed_sections": [
        "GlxhJvKtEI0s",
        "KqcxWQFHkvts",
        "CZMYbeO8jIio",
        "nkz_ruMSjE1S"
      ],
      "provenance": []
    },
    "kernelspec": {
      "display_name": "datascience",
      "language": "python",
      "name": "python3"
    },
    "language_info": {
      "codemirror_mode": {
        "name": "ipython",
        "version": 3
      },
      "file_extension": ".py",
      "mimetype": "text/x-python",
      "name": "python",
      "nbconvert_exporter": "python",
      "pygments_lexer": "ipython3",
      "version": "3.9.7"
    }
  },
  "nbformat": 4,
  "nbformat_minor": 0
}
