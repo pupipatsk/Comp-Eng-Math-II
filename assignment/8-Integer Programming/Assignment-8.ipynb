{
  "cells": [
    {
      "cell_type": "markdown",
      "metadata": {
        "id": "RXCVGID3wsii"
      },
      "source": [
        "# <b> Only problem 1 and 6 will be graded. </b>"
      ]
    },
    {
      "cell_type": "markdown",
      "metadata": {
        "id": "MZk9zl2FjBJJ"
      },
      "source": [
        "## Problem 1 : Integer program\n",
        "\n",
        "\n",
        "Solve the following program by using linprog function and branch and bound method:\n",
        "$$Objective : max(3x + 4y) $$\n",
        "$$\\begin{align*}\n",
        "  x + 2y &\\leq 7 \\\\\n",
        "  3x  - y &\\geq 0 \\\\\n",
        "  x -  y &\\leq  2 \\\\\n",
        "  x, y  &\\in Z^+ \\cup \\{0\\} \\\\\n",
        "\\end{align*}$$"
      ]
    },
    {
      "cell_type": "markdown",
      "metadata": {},
      "source": [
        "    Solution:"
      ]
    },
    {
      "cell_type": "markdown",
      "metadata": {},
      "source": [
        "scipy.optimize.linprog: **minimize** a linear objective function subject to linear equality and inequality constraints."
      ]
    },
    {
      "cell_type": "markdown",
      "metadata": {},
      "source": [
        "$$Objective : min(-3x-4y) $$\n",
        "$$\\begin{align*}\n",
        "  x + 2y & \\leq 7 \\\\\n",
        "  -3x + y & \\leq 0 \\\\\n",
        "  x -  y & \\leq  2 \\\\\n",
        "  x, y &\\geq 0 \\\\\n",
        "\\end{align*}$$"
      ]
    },
    {
      "cell_type": "code",
      "execution_count": 1,
      "metadata": {
        "id": "58c9u8IC1aFq"
      },
      "outputs": [
        {
          "name": "stdout",
          "output_type": "stream",
          "text": [
            "Optimal value: 17.666666666666668, x: 3.6666666666666665, y: 1.6666666666666667\n"
          ]
        }
      ],
      "source": [
        "import numpy as np\n",
        "from scipy.optimize import linprog\n",
        "\n",
        "c = [-3, -4]\n",
        "\n",
        "A = [[1, 2],\n",
        "     [-3, 1],\n",
        "     [1, -1]]\n",
        "\n",
        "b = [7, 0, 2]\n",
        "\n",
        "x_bounds = (0, None)\n",
        "y_bounds = (0, None)\n",
        "\n",
        "result = linprog(c, A_ub=A, b_ub=b, bounds=[x_bounds, y_bounds], method='highs')\n",
        "\n",
        "print(f\"Optimal value: {-result.fun}, x: {result.x[0]}, y: {result.x[1]}\")"
      ]
    },
    {
      "cell_type": "code",
      "execution_count": 2,
      "metadata": {},
      "outputs": [
        {
          "name": "stdout",
          "output_type": "stream",
          "text": [
            "Subproblem 1 (x <= 3): Optimal value: 17.0, x: 3.0, y: 2.0\n"
          ]
        }
      ],
      "source": [
        "# Subproblem 1: x <= 3\n",
        "\n",
        "x_bounds_sub1 = (0, 3)\n",
        "\n",
        "result_sub1 = linprog(c, A_ub=A, b_ub=b, bounds=[x_bounds_sub1, y_bounds], method='highs')\n",
        "\n",
        "print(f\"Subproblem 1 (x <= 3): Optimal value: {-result_sub1.fun}, x: {result_sub1.x[0]}, y: {result_sub1.x[1]}\")"
      ]
    },
    {
      "cell_type": "code",
      "execution_count": 3,
      "metadata": {},
      "outputs": [
        {
          "name": "stdout",
          "output_type": "stream",
          "text": [
            "Subproblem 2 (x >= 4): No feasible solution.\n"
          ]
        }
      ],
      "source": [
        "# Subproblem 2: x >= 4\n",
        "\n",
        "x_bounds_sub2 = (4, None)\n",
        "\n",
        "result_sub2 = linprog(c, A_ub=A, b_ub=b, bounds=[x_bounds_sub2, y_bounds], method='highs')\n",
        "\n",
        "if result_sub2.success:\n",
        "    print(f\"Subproblem 2 (x >= 4): Optimal value: {-result_sub2.fun}, x: {result_sub2.x[0]}, y: {result_sub2.x[1]}\")\n",
        "else:\n",
        "    print(\"Subproblem 2 (x >= 4): No feasible solution.\")"
      ]
    },
    {
      "cell_type": "markdown",
      "metadata": {},
      "source": [
        "**Conclusion**:\n",
        "\n",
        "Since Subproblem 1 provides a feasible integer solution\\\n",
        "and Subproblem 2 has no feasible solution,\\\n",
        "the optimal integer solution to the original problem is:\n",
        "\n",
        "$\\therefore \\text{Optimal value}= 17,\\quad x= 3,\\quad y= 2$"
      ]
    },
    {
      "cell_type": "markdown",
      "metadata": {
        "id": "m4rcUdJziDGP"
      },
      "source": [
        "# Problem 6 : Instraham\n",
        "\n",
        "\n",
        "After several crises, Hamtaro is fed up with the manufacturing business and is now looking for new business opportunities. He finds out that opening social media platform could make a hefty sum of money. Moreover, since hamsters do not currently have a social media site, Hamtaro can monopolize the market easily. Therefore, he creates Instraham, the first social media website of hamsters, by hamsters, for hamsters.\n",
        "\n",
        "After consulting with Koushi-kun, Hamtaro figures out that social network platforms often have the features shown in the table below. For each feature, the CPU load and storage load are shown with its associated business value score.\n",
        "\n",
        "|Feature name| CPU load (%) | storage load (%) | business value score |\n",
        "|:-:|:-:|:-:|:-:|\n",
        "| A | 20 | 30| 10|\n",
        "| B | 10 | 5| 5|\n",
        "| C| 30 | 10| 10|\n",
        "| D | 5 | 10| 3|\n",
        "| F | 15 | 30| 10|\n",
        "| G | 60 | 70| 30|\n",
        "| H | 80 | 80| 80|\n",
        "| I | 10 | 50| 20|\n",
        "| J | 3 | 50| 5|\n",
        "\n",
        "Feature A, and J is mandatory while the rest is optional. The objective is to maximize the business value score of the website while not overloading CPU and storage servers. His engineering friend, Taisho-kun, also suggests him that he could improve the website efficiency by performing the following operations:\n",
        "\n",
        "- Feature compression. This method will reduce both CPU and storage load by half, but it also reduces the business value to 55% of the original value. Every feature could be compressed, but the number of compressed features in the website is limited to two.\n",
        "\n",
        "-  The usage of storage efficient algorithm. By using this method, the feature storage load is reduced by half but it also doubles the CPU load. However, only feature H, I, J can use this method. This method could not be used concurrently with feature compression.\n",
        "\n",
        "From this information, which features should Hamtaro develop? ~~Use Amdahl's law to find the best speedup~~. Formulate the problem as an integer program and solve for an optimal solution.\n",
        "\n",
        "<b> Note : This problem is based on the blog (https://engineering.fb.com/2021/07/29/data-infrastructure/linear-programming/) </b>\n"
      ]
    },
    {
      "cell_type": "markdown",
      "metadata": {},
      "source": [
        "    Solution:"
      ]
    },
    {
      "cell_type": "markdown",
      "metadata": {},
      "source": [
        "**Decision variables**:\n",
        "\n",
        "- $x_i$: Binary variable (0 or 1) for whether feature  i  is *selected* for the platform.\n",
        "- $c_i$: Binary variable (0 or 1) for whether feature  i  is *compressed*.\n",
        "- $s_i$: Binary variable (0 or 1) for whether feature  i  is uses the *storage-efficient* algorithm."
      ]
    },
    {
      "cell_type": "markdown",
      "metadata": {},
      "source": [
        "**Objective**:\\\n",
        "maximize the business value score\n",
        "$$max(\\ \\sum_{i}(x_i v_i - 0.45 c_i v_i)\\ )$$\n",
        "; $v_i$ is business value score of feature i"
      ]
    },
    {
      "cell_type": "markdown",
      "metadata": {},
      "source": [
        "**Constraints**:\n",
        "\n",
        "- Total CPU Load\n",
        "$$\n",
        "\\sum Normal - Feature\\ compression + Storage\\ efficient\\ algorithm\n",
        "\\leq 100\n",
        "$$\n",
        "$$\n",
        "\\sum_{i} (x_i \\cdot CPU_i)\n",
        "- (c_i \\cdot x_i \\cdot 0.5 CPU_i)\n",
        "+ (s_i \\cdot x_i \\cdot 2 CPU_i)\n",
        "\\leq 100\n",
        "$$\n",
        "$$\n",
        "\\therefore\n",
        "\\sum_{i} (x_i \\cdot CPU_i)(1-0.5c_i+2s_i)\n",
        "\\leq 100\n",
        "$$\n",
        "; $CPU_i$ is CPU Load of feature i\n",
        "\n",
        "- Total Storage Load\n",
        "$$\n",
        "\\sum_{i} (x_i \\cdot Storage_i)\n",
        "- (c_i \\cdot x_i \\cdot 0.5Storage_i)\n",
        "- (s_i \\cdot x_i \\cdot 0.5Storage_i)\n",
        "\\leq 100\n",
        "$$\n",
        "$$\n",
        "\\therefore\n",
        "\\sum_{i} (x_i \\cdot Storage_i)(1-0.5c_i-0.5s_i)\n",
        "\\leq 100\n",
        "$$\n",
        "; $Storage_i$ is storage load of feature i\n",
        "\n",
        "- Mandatory features\n",
        "$$x_A=1,\\quad x_J=1$$\n",
        "\n",
        "- If use Feature compression must be selected first\n",
        "$$c_i \\leq x_i$$\n",
        "\n",
        "- If use Storage efficient algorithm must be selected first\n",
        "$$s_i \\leq x_i$$\n",
        "\n",
        "- Feature compression limit\n",
        "$$\\sum_i c_i \\leq 2$$\n",
        "\n",
        "- Storage efficient algorithm can use only by H, I, J\n",
        "$$s_A=0,\\ s_B=0,\\ s_C=0,\\ s_D=0,\\ s_F=0,\\ s_G=0$$\n",
        "\n",
        "- Storage efficient algorithm could not be used concurrently with feature compression\n",
        "$$s_i + c_i \\leq 1$$"
      ]
    },
    {
      "cell_type": "code",
      "execution_count": 4,
      "metadata": {},
      "outputs": [],
      "source": [
        "import pulp\n",
        "\n",
        "prob = pulp.LpProblem(\"Instraham\", pulp.LpMaximize)\n",
        "\n",
        "# Data\n",
        "features = ['A', 'B', 'C', 'D', 'F', 'G', 'H', 'I', 'J']\n",
        "cpu = {'A': 20, 'B': 10, 'C': 30, 'D': 5, 'F': 15, 'G': 60, 'H': 80, 'I': 10, 'J': 3}\n",
        "storage = {'A': 30, 'B': 5, 'C': 10, 'D': 10, 'F': 30, 'G': 70, 'H': 80, 'I': 50, 'J': 50}\n",
        "business_value = {'A': 10, 'B': 5, 'C': 10, 'D': 3, 'F': 10, 'G': 30, 'H': 80, 'I': 20, 'J': 5}\n",
        "\n",
        "# Decision variables\n",
        "x = pulp.LpVariable.dicts(\"select\", features, cat='Binary')  # Feature selection\n",
        "c = pulp.LpVariable.dicts(\"compress\", features, cat='Binary')  # Compression\n",
        "s = pulp.LpVariable.dicts(\"storage_efficient\", features, cat='Binary')  # Storage-efficient\n",
        "\n",
        "# Objective function: Maximize business value\n",
        "prob += pulp.lpSum([business_value[f] * (x[f] - 0.45 * c[f]) for f in features])"
      ]
    },
    {
      "cell_type": "code",
      "execution_count": 5,
      "metadata": {},
      "outputs": [
        {
          "name": "stdout",
          "output_type": "stream",
          "text": [
            "Welcome to the CBC MILP Solver \n",
            "Version: 2.10.3 \n",
            "Build Date: Dec 15 2019 \n",
            "\n",
            "command line - /Users/pupipatsingkhorn/miniconda3/envs/datascience/lib/python3.9/site-packages/pulp/solverdir/cbc/osx/64/cbc /var/folders/m6/fz_qjnl51s70hy69d_st2z240000gn/T/45aa897acc4d41018b92dfb0b39974f9-pulp.mps -max -timeMode elapsed -branch -printingOptions all -solution /var/folders/m6/fz_qjnl51s70hy69d_st2z240000gn/T/45aa897acc4d41018b92dfb0b39974f9-pulp.sol (default strategy 1)\n",
            "At line 2 NAME          MODEL\n",
            "At line 3 ROWS\n",
            "At line 43 COLUMNS\n",
            "At line 241 RHS\n",
            "At line 280 BOUNDS\n",
            "At line 308 ENDATA\n",
            "Problem MODEL has 38 rows, 27 columns and 125 elements\n",
            "Coin0008I MODEL read with 0 errors\n",
            "Option for timeMode changed from cpu to elapsed\n",
            "Continuous objective value is 82.95 - 0.00 seconds\n",
            "Cgl0002I 6 variables fixed\n",
            "Cgl0003I 1 fixed, 0 tightened bounds, 1 strengthened rows, 0 substitutions\n",
            "Cgl0003I 0 fixed, 0 tightened bounds, 1 strengthened rows, 0 substitutions\n",
            "Cgl0003I 0 fixed, 0 tightened bounds, 1 strengthened rows, 0 substitutions\n",
            "Cgl0003I 0 fixed, 0 tightened bounds, 1 strengthened rows, 0 substitutions\n",
            "Cgl0004I processed model has 11 rows, 18 columns (18 integer (18 of which binary)) and 62 elements\n",
            "Cutoff increment increased from 1e-05 to 0.04995\n",
            "Cbc0038I Initial state - 2 integers unsatisfied sum - 0.2375\n",
            "Cbc0038I Solution found of -69.5\n",
            "Cbc0038I Before mini branch and bound, 16 integers at bound fixed and 0 continuous\n",
            "Cbc0038I Full problem 11 rows 18 columns, reduced to 0 rows 0 columns\n",
            "Cbc0038I Mini branch and bound did not improve solution (0.03 seconds)\n",
            "Cbc0038I Round again with cutoff of -70\n",
            "Cbc0038I Reduced cost fixing fixed 5 variables on major pass 2\n",
            "Cbc0038I Pass   1: suminf.    0.01389 (1) obj. -70 iterations 7\n",
            "Cbc0038I Pass   2: suminf.    0.10000 (1) obj. -73.1 iterations 1\n",
            "Cbc0038I Pass   3: suminf.    0.10000 (1) obj. -71.5 iterations 2\n",
            "Cbc0038I Pass   4: suminf.    0.50000 (2) obj. -70 iterations 4\n",
            "Cbc0038I Pass   5: suminf.    0.29167 (1) obj. -70 iterations 5\n",
            "Cbc0038I Pass   6: suminf.    0.37500 (1) obj. -73 iterations 1\n",
            "Cbc0038I Pass   7: suminf.    1.03333 (3) obj. -70 iterations 5\n",
            "Cbc0038I Pass   8: suminf.    0.75000 (2) obj. -70 iterations 1\n",
            "Cbc0038I Pass   9: suminf.    0.75000 (2) obj. -70 iterations 0\n",
            "Cbc0038I Pass  10: suminf.    0.50000 (2) obj. -70 iterations 2\n",
            "Cbc0038I Pass  11: suminf.    0.50000 (2) obj. -70 iterations 1\n",
            "Cbc0038I Pass  12: suminf.    0.80460 (4) obj. -70 iterations 5\n",
            "Cbc0038I Pass  13: suminf.    0.52083 (2) obj. -70 iterations 2\n",
            "Cbc0038I Pass  14: suminf.    0.25000 (1) obj. -73.5 iterations 3\n",
            "Cbc0038I Pass  15: suminf.    0.15278 (1) obj. -70 iterations 2\n",
            "Cbc0038I Pass  16: suminf.    0.15278 (1) obj. -70 iterations 0\n",
            "Cbc0038I Pass  17: suminf.    0.15278 (1) obj. -70 iterations 0\n",
            "Cbc0038I Pass  18: suminf.    0.15278 (1) obj. -70 iterations 0\n",
            "Cbc0038I Pass  19: suminf.    0.15278 (1) obj. -70 iterations 0\n",
            "Cbc0038I Pass  20: suminf.    0.42500 (2) obj. -70 iterations 5\n",
            "Cbc0038I Pass  21: suminf.    0.28571 (2) obj. -74 iterations 6\n",
            "Cbc0038I Pass  22: suminf.    0.01389 (1) obj. -70 iterations 6\n",
            "Cbc0038I Pass  23: suminf.    0.10000 (1) obj. -73.1 iterations 1\n",
            "Cbc0038I Pass  24: suminf.    0.10000 (1) obj. -71.5 iterations 3\n",
            "Cbc0038I Pass  25: suminf.    0.03175 (2) obj. -70 iterations 4\n",
            "Cbc0038I Pass  26: suminf.    0.50000 (2) obj. -70 iterations 5\n",
            "Cbc0038I Pass  27: suminf.    0.50000 (2) obj. -70 iterations 0\n",
            "Cbc0038I Pass  28: suminf.    0.29167 (1) obj. -70 iterations 5\n",
            "Cbc0038I Pass  29: suminf.    0.37500 (1) obj. -73 iterations 1\n",
            "Cbc0038I Pass  30: suminf.    1.03333 (3) obj. -70 iterations 4\n",
            "Cbc0038I No solution found this major pass\n",
            "Cbc0038I Before mini branch and bound, 8 integers at bound fixed and 0 continuous\n",
            "Cbc0038I Full problem 11 rows 18 columns, reduced to 7 rows 9 columns\n",
            "Cbc0038I Mini branch and bound did not improve solution (0.03 seconds)\n",
            "Cbc0038I After 0.03 seconds - Feasibility pump exiting with objective of -69.5 - took 0.00 seconds\n",
            "Cbc0012I Integer solution of -69.5 found by feasibility pump after 0 iterations and 0 nodes (0.03 seconds)\n",
            "Cbc0006I The LP relaxation is infeasible or too expensive\n",
            "Cbc0013I At root node, 0 cuts changed objective from -74 to -74 in 1 passes\n",
            "Cbc0014I Cut generator 0 (Probing) - 1 row cuts average 0.0 elements, 4 column cuts (4 active)  in 0.000 seconds - new frequency is 1\n",
            "Cbc0014I Cut generator 1 (Gomory) - 0 row cuts average 0.0 elements, 0 column cuts (0 active)  in 0.000 seconds - new frequency is -100\n",
            "Cbc0014I Cut generator 2 (Knapsack) - 0 row cuts average 0.0 elements, 0 column cuts (0 active)  in 0.000 seconds - new frequency is -100\n",
            "Cbc0014I Cut generator 3 (Clique) - 0 row cuts average 0.0 elements, 0 column cuts (0 active)  in 0.000 seconds - new frequency is -100\n",
            "Cbc0014I Cut generator 4 (MixedIntegerRounding2) - 0 row cuts average 0.0 elements, 0 column cuts (0 active)  in 0.000 seconds - new frequency is -100\n",
            "Cbc0014I Cut generator 5 (FlowCover) - 0 row cuts average 0.0 elements, 0 column cuts (0 active)  in 0.000 seconds - new frequency is -100\n",
            "Cbc0014I Cut generator 6 (TwoMirCuts) - 0 row cuts average 0.0 elements, 0 column cuts (0 active)  in 0.000 seconds - new frequency is -100\n",
            "Cbc0014I Cut generator 7 (ZeroHalf) - 0 row cuts average 0.0 elements, 0 column cuts (0 active)  in 0.000 seconds - new frequency is -100\n",
            "Cbc0001I Search completed - best objective -69.5, took 0 iterations and 0 nodes (0.03 seconds)\n",
            "Cbc0035I Maximum depth 0, 5 variables fixed on reduced cost\n",
            "Cuts at root node changed objective from -74 to -74\n",
            "Probing was tried 1 times and created 5 cuts of which 0 were active after adding rounds of cuts (0.000 seconds)\n",
            "Gomory was tried 0 times and created 0 cuts of which 0 were active after adding rounds of cuts (0.000 seconds)\n",
            "Knapsack was tried 0 times and created 0 cuts of which 0 were active after adding rounds of cuts (0.000 seconds)\n",
            "Clique was tried 0 times and created 0 cuts of which 0 were active after adding rounds of cuts (0.000 seconds)\n",
            "MixedIntegerRounding2 was tried 0 times and created 0 cuts of which 0 were active after adding rounds of cuts (0.000 seconds)\n",
            "FlowCover was tried 0 times and created 0 cuts of which 0 were active after adding rounds of cuts (0.000 seconds)\n",
            "TwoMirCuts was tried 0 times and created 0 cuts of which 0 were active after adding rounds of cuts (0.000 seconds)\n",
            "ZeroHalf was tried 0 times and created 0 cuts of which 0 were active after adding rounds of cuts (0.000 seconds)\n",
            "\n",
            "Result - Optimal solution found\n",
            "\n",
            "Objective value:                69.50000000\n",
            "Enumerated nodes:               0\n",
            "Total iterations:               0\n",
            "Time (CPU seconds):             0.01\n",
            "Time (Wallclock seconds):       0.03\n",
            "\n",
            "Option for printingOptions changed from normal to all\n",
            "Total time (CPU seconds):       0.01   (Wallclock seconds):       0.04\n",
            "\n",
            "\n",
            "Optimal Feature Selection:\n",
            "--------------------------------------------------\n",
            "Selected Features:\n",
            "- Feature A (compressed)\n",
            "- Feature B\n",
            "- Feature C\n",
            "- Feature H (compressed)\n",
            "- Feature J (storage-efficient)\n",
            "\n",
            "Total Business Value: 69.5\n",
            "CPU Load: 96.0\n",
            "Storage Load: 95.0\n"
          ]
        }
      ],
      "source": [
        "# Constraints\n",
        "\n",
        "# CPU Load\n",
        "prob += pulp.lpSum([cpu[f]*x[f] - 0.5*cpu[f]*c[f] + cpu[f]*s[f] for f in features]) <= 100\n",
        "\n",
        "# Storage Load\n",
        "prob += pulp.lpSum([storage[f]*x[f] - 0.5*storage[f]*c[f] - 0.5*storage[f]*s[f] for f in features]) <= 100\n",
        "\n",
        "# Mandatory features: A and J\n",
        "prob += x['A'] == 1\n",
        "prob += x['J'] == 1\n",
        "\n",
        "# Feature Compression\n",
        "prob += pulp.lpSum(c[f] for f in features) <= 2  # Limit\n",
        "for f in features:\n",
        "    prob += c[f] <= x[f] # must be selected features\n",
        "\n",
        "# Storage-efficient algorithm\n",
        "# Only H, I, J can use storage-efficient\n",
        "for f in ['A', 'B', 'C', 'D', 'F', 'G']:\n",
        "    prob += s[f] == 0\n",
        "for f in features:\n",
        "    prob += s[f] <= x[f] # must be selected features\n",
        "    prob += s[f] + c[f] <= 1  # no concurrent\n",
        "\n",
        "# Solve the problem\n",
        "status = prob.solve()\n",
        "\n",
        "# Print results\n",
        "print(\"\\nOptimal Feature Selection:\")\n",
        "print(\"-\" * 50)\n",
        "print(\"Selected Features:\")\n",
        "for f in features:\n",
        "    if x[f].value() > 0.5:  # Using 0.5 to handle floating-point imprecision\n",
        "        optimizations = []\n",
        "        if c[f].value() > 0.5:\n",
        "            optimizations.append(\"compressed\")\n",
        "        if s[f].value() > 0.5:\n",
        "            optimizations.append(\"storage-efficient\")\n",
        "        opt_str = f\" ({', '.join(optimizations)})\" if optimizations else \"\"\n",
        "        print(f\"- Feature {f}{opt_str}\")\n",
        "\n",
        "print(\"\\nTotal Business Value:\", pulp.value(prob.objective))\n",
        "print(\"CPU Load:\", sum(cpu[f] * x[f].value() - 0.5 * cpu[f] * c[f].value() + cpu[f] * s[f].value() for f in features))\n",
        "print(\"Storage Load:\", sum(storage[f] * x[f].value() - 0.5 * storage[f] * c[f].value() - 0.5 * storage[f] * s[f].value() for f in features))"
      ]
    },
    {
      "cell_type": "markdown",
      "metadata": {},
      "source": [
        "**Conclusion**:\n",
        "\n",
        "Optimal Feature Selection:\n",
        "\n",
        "Selected Features:\n",
        "- Feature A (compressed)\n",
        "- Feature B\n",
        "- Feature C\n",
        "- Feature H (compressed)\n",
        "- Feature J (storage-efficient)\n",
        "\n",
        "Total Business Value: 69.5\\\n",
        "CPU Load: 96.0\\\n",
        "Storage Load: 95.0"
      ]
    }
  ],
  "metadata": {
    "colab": {
      "collapsed_sections": [
        "GlxhJvKtEI0s",
        "KqcxWQFHkvts",
        "CZMYbeO8jIio",
        "nkz_ruMSjE1S"
      ],
      "provenance": []
    },
    "kernelspec": {
      "display_name": "datascience",
      "language": "python",
      "name": "python3"
    },
    "language_info": {
      "codemirror_mode": {
        "name": "ipython",
        "version": 3
      },
      "file_extension": ".py",
      "mimetype": "text/x-python",
      "name": "python",
      "nbconvert_exporter": "python",
      "pygments_lexer": "ipython3",
      "version": "3.9.7"
    }
  },
  "nbformat": 4,
  "nbformat_minor": 0
}
