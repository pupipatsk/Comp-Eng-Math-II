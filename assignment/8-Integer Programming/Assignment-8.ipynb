{
  "cells": [
    {
      "cell_type": "markdown",
      "metadata": {
        "id": "RXCVGID3wsii"
      },
      "source": [
        "# <b> Only problem 1 and 6 will be graded. </b>"
      ]
    },
    {
      "cell_type": "markdown",
      "metadata": {
        "id": "MZk9zl2FjBJJ"
      },
      "source": [
        "## Problem 1 : Integer program\n",
        "\n",
        "\n",
        "Solve the following program by using linprog function and branch and bound method:\n",
        "$$Objective : max(3x + 4y) $$\n",
        "$$\\begin{equation*}\n",
        "s.t.\n",
        "\\begin{split}\n",
        "  x + 2y & \\leq 7 \\\\\n",
        "  3x  - y & \\geq 0 \\\\\n",
        "  x -  y & \\leq  2 \\\\\n",
        "  x, y  \\in Z^+ \\cup \\{0\\} \\\\\n",
        "\\end{split}\n",
        "\\end{equation*}$$\n",
        "\n",
        "\n"
      ]
    },
    {
      "cell_type": "markdown",
      "metadata": {},
      "source": [
        "    Solution:"
      ]
    },
    {
      "cell_type": "markdown",
      "metadata": {},
      "source": [
        "scipy.optimize.linprog: **minimize** a linear objective function subject to linear equality and inequality constraints."
      ]
    },
    {
      "cell_type": "markdown",
      "metadata": {},
      "source": [
        "$$Objective : min(-3x-4y) $$\n",
        "$$\\begin{equation*}\n",
        "\\begin{split}\n",
        "  x + 2y & \\leq 7 \\\\\n",
        "  -3x + y & \\leq 0 \\\\\n",
        "  x -  y & \\leq  2 \\\\\n",
        "  x, y &\\geq 0 \\\\\n",
        "\\end{split}\n",
        "\\end{equation*}$$"
      ]
    },
    {
      "cell_type": "code",
      "execution_count": 3,
      "metadata": {
        "id": "58c9u8IC1aFq"
      },
      "outputs": [
        {
          "name": "stdout",
          "output_type": "stream",
          "text": [
            "Optimal value: 17.666666666666668, x: 3.6666666666666665, y: 1.6666666666666667\n"
          ]
        }
      ],
      "source": [
        "import numpy as np\n",
        "from scipy.optimize import linprog\n",
        "\n",
        "c = [-3, -4]\n",
        "\n",
        "A = [[1, 2],\n",
        "     [-3, 1],\n",
        "     [1, -1]]\n",
        "\n",
        "b = [7, 0, 2]\n",
        "\n",
        "x_bounds = (0, None)\n",
        "y_bounds = (0, None)\n",
        "\n",
        "result = linprog(c, A_ub=A, b_ub=b, bounds=[x_bounds, y_bounds], method='highs')\n",
        "\n",
        "print(f\"Optimal value: {-result.fun}, x: {result.x[0]}, y: {result.x[1]}\")"
      ]
    },
    {
      "cell_type": "code",
      "execution_count": 7,
      "metadata": {},
      "outputs": [
        {
          "name": "stdout",
          "output_type": "stream",
          "text": [
            "Subproblem 1 (x <= 3): Optimal value: 17.0, x: 3.0, y: 2.0\n"
          ]
        }
      ],
      "source": [
        "# Subproblem 1: x <= 3\n",
        "\n",
        "x_bounds_sub1 = (0, 3)\n",
        "\n",
        "result_sub1 = linprog(c, A_ub=A, b_ub=b, bounds=[x_bounds_sub1, y_bounds], method='highs')\n",
        "\n",
        "print(f\"Subproblem 1 (x <= 3): Optimal value: {-result_sub1.fun}, x: {result_sub1.x[0]}, y: {result_sub1.x[1]}\")"
      ]
    },
    {
      "cell_type": "code",
      "execution_count": 8,
      "metadata": {},
      "outputs": [
        {
          "name": "stdout",
          "output_type": "stream",
          "text": [
            "Subproblem 2 (x >= 4): No feasible solution.\n"
          ]
        }
      ],
      "source": [
        "# Subproblem 2: x >= 4\n",
        "\n",
        "x_bounds_sub2 = (4, None)\n",
        "\n",
        "result_sub2 = linprog(c, A_ub=A, b_ub=b, bounds=[x_bounds_sub2, y_bounds], method='highs')\n",
        "\n",
        "if result_sub2.success:\n",
        "    print(f\"Subproblem 2 (x >= 4): Optimal value: {-result_sub2.fun}, x: {result_sub2.x[0]}, y: {result_sub2.x[1]}\")\n",
        "else:\n",
        "    print(\"Subproblem 2 (x >= 4): No feasible solution.\")"
      ]
    },
    {
      "cell_type": "markdown",
      "metadata": {},
      "source": [
        "**Conclusion**:\n",
        "\n",
        "Since Subproblem 1 provides a feasible integer solution\\\n",
        "and Subproblem 2 has no feasible solution,\\\n",
        "the optimal integer solution to the original problem is:\n",
        "\n",
        "$$\\therefore \\text{Optimal value}= 17,\\quad x= 3,\\quad y= 2$$"
      ]
    },
    {
      "cell_type": "markdown",
      "metadata": {
        "id": "lYrVL4IDLjma"
      },
      "source": [
        "# For problem 2-6: you can use Excel to find the answer."
      ]
    },
    {
      "cell_type": "markdown",
      "metadata": {
        "id": "m4rcUdJziDGP"
      },
      "source": [
        "# Problem 6 : Instraham\n",
        "\n",
        "\n",
        "After several crises, Hamtaro is fed up with the manufacturing business and is now looking for new business opportunities. He finds out that opening social media platform could make a hefty sum of money. Moreover, since hamsters do not currently have a social media site, Hamtaro can monopolize the market easily. Therefore, he creates Instraham, the first social media website of hamsters, by hamsters, for hamsters.\n",
        "\n",
        "After consulting with Koushi-kun, Hamtaro figures out that social network platforms often have the features shown in the table below. For each feature, the CPU load and storage load are shown with its associated business value score.\n",
        "\n",
        "|Feature name| CPU load (%) | storage load (%) | business value score |\n",
        "|:-:|:-:|:-:|:-:|\n",
        "| A | 20 | 30| 10|\n",
        "| B | 10 | 5| 5|\n",
        "| C| 30 | 10| 10|\n",
        "| D | 5 | 10| 3|\n",
        "| F | 15 | 30| 10|\n",
        "| G | 60 | 70| 30|\n",
        "| H | 80 | 80| 80|\n",
        "| I | 10 | 50| 20|\n",
        "| J | 3 | 50| 5|\n",
        "\n",
        "Feature A, and J is mandatory while the rest is optional. The objective is to maximize the business value score of the website while not overloading CPU and storage servers. His engineering friend, Taisho-kun, also suggests him that he could improve the website efficiency by performing the following operations:\n",
        "\n",
        "- Feature compression. This method will reduce both CPU and storage load by half, but it also reduces the business value to 55% of the original value. Every feature could be compressed, but the number of compressed features in the website is limited to two.\n",
        "\n",
        "-  The usage of storage efficient algorithm. By using this method, the feature storage load is reduced by half but it also doubles the CPU load. However, only feature H, I, J can use this method. This method could not be used concurrently with feature compression.\n",
        "\n",
        "From this information, which features should Hamtaro develop? ~~Use Amdahl's law to find the best speedup~~. Formulate the problem as an integer program and solve for an optimal solution.\n",
        "\n",
        "<b> Note : This problem is based on the blog (https://engineering.fb.com/2021/07/29/data-infrastructure/linear-programming/) </b>\n"
      ]
    },
    {
      "cell_type": "markdown",
      "metadata": {},
      "source": [
        "    Solution:"
      ]
    },
    {
      "cell_type": "markdown",
      "metadata": {},
      "source": [
        "**Decision variables**:\n",
        "\n",
        "- $x_i$: Binary variable (0 or 1) for whether feature  i  is *selected* for the platform.\n",
        "- $c_i$: Binary variable (0 or 1) for whether feature  i  is *compressed*.\n",
        "- $s_i$: Binary variable (0 or 1) for whether feature  i  is uses the *storage-efficient* algorithm."
      ]
    },
    {
      "cell_type": "markdown",
      "metadata": {},
      "source": [
        "**Objective**:\\\n",
        "maximize the business value score\n",
        "$$max(\\ \\sum_{i}(x_i v_i - 0.45 c_i v_i)\\ )$$\n",
        "; $v_i$ is business value score of feature i"
      ]
    },
    {
      "cell_type": "markdown",
      "metadata": {},
      "source": [
        "**Constraints**:\n",
        "\n",
        "- CPU Load\n",
        "$$\n",
        "\\sum Normal - Feature\\ compression + Storage\\ efficient\\ algorithm\n",
        "\\leq 100\n",
        "$$\n",
        "$$\n",
        "\\sum_{i} (x_i \\cdot CPU_i)\n",
        "- (c_i \\cdot x_i \\cdot 0.5 CPU_i)\n",
        "+ (s_i \\cdot x_i \\cdot 2 CPU_i)\n",
        "\\leq 100\n",
        "$$\n",
        "$$\n",
        "\\therefore\n",
        "\\sum_{i} (x_i \\cdot CPU_i)(1-0.5c_i+2s_i)\n",
        "\\leq 100\n",
        "$$\n",
        "\n",
        "- Storage Load\n",
        "$$\n",
        "\\sum_{i} (x_i \\cdot Storage_i)\n",
        "- (c_i \\cdot x_i \\cdot 0.5Storage_i)\n",
        "- (s_i \\cdot x_i \\cdot 0.5Storage_i)\n",
        "\\leq 100\n",
        "$$\n",
        "$$\n",
        "\\therefore\n",
        "\\sum_{i} (x_i \\cdot Storage_i)(1-0.5c_i-0.5s_i)\n",
        "\\leq 100\n",
        "$$\n",
        "\n",
        "- Mandatory features\n",
        "$$x_A=1,\\quad x_J=1$$\n",
        "\n",
        "- If use Feature compression must be selected first\n",
        "$$c_i \\leq x_i$$\n",
        "\n",
        "- If use Storage efficient algorithm must be selected first\n",
        "$$s_i \\leq x_i$$\n",
        "\n",
        "- Feature compression limit\n",
        "$$\\sum_i c_i \\leq 2$$\n",
        "\n",
        "- Storage efficient algorithm can use only by H, I, J\n",
        "$$s_A=0,\\ s_B=0,\\ s_C=0,\\ s_D=0,\\ s_F=0,\\ s_G=0$$\n",
        "\n",
        "- Storage efficient algorithm could not be used concurrently with feature compression\n",
        "$$s_i + c_i \\leq 1$$"
      ]
    },
    {
      "cell_type": "code",
      "execution_count": 32,
      "metadata": {},
      "outputs": [],
      "source": [
        "import pulp\n",
        "\n",
        "prob = pulp.LpProblem(\"Instraham\", pulp.LpMaximize)\n",
        "\n",
        "cpu = {'A': 20, 'B': 10, 'C': 30, 'D': 5, 'F': 15, 'G': 60, 'H': 80, 'I': 10, 'J': 3}\n",
        "storage = {'A': 30, 'B': 5, 'C': 10, 'D': 10, 'F': 30, 'G': 70, 'H': 80, 'I': 50, 'J': 50}\n",
        "business_value = {'A': 10, 'B': 5, 'C': 10, 'D': 3, 'F': 10, 'G': 30, 'H': 80, 'I': 20, 'J': 5}\n",
        "\n",
        "# Decision variables\n",
        "features = ['A', 'B', 'C', 'D', 'F', 'G', 'H', 'I', 'J']\n",
        "x = pulp.LpVariable.dicts(\"x\", features, cat='Binary')  # Selection\n",
        "c = pulp.LpVariable.dicts(\"c\", features, cat='Binary')  # Feature compression\n",
        "s = pulp.LpVariable.dicts(\"s\", features, cat='Binary')  # Storage-efficient algorithm\n",
        "\n",
        "# Objective function\n",
        "prob += pulp.lpSum([x[f] * business_value[f] - 0.45 * business_value[f] * c[f] for f in features])"
      ]
    },
    {
      "cell_type": "code",
      "execution_count": 26,
      "metadata": {},
      "outputs": [
        {
          "name": "stdout",
          "output_type": "stream",
          "text": [
            "A: 20 30 10\n",
            "A: x_A c_A s_A\n",
            "B: 10 5 5\n",
            "B: x_B c_B s_B\n",
            "C: 30 10 10\n",
            "C: x_C c_C s_C\n",
            "D: 5 10 3\n",
            "D: x_D c_D s_D\n",
            "F: 15 30 10\n",
            "F: x_F c_F s_F\n",
            "G: 60 70 30\n",
            "G: x_G c_G s_G\n",
            "H: 80 80 80\n",
            "H: x_H c_H s_H\n",
            "I: 10 50 20\n",
            "I: x_I c_I s_I\n",
            "J: 3 50 5\n",
            "J: x_J c_J s_J\n"
          ]
        }
      ],
      "source": [
        "for f in features:\n",
        "    print(f\"{f}: {cpu[f]} {storage[f]} {business_value[f]}\")\n",
        "    print(f\"{f}: {x[f]} {c[f]} {s[f]}\")"
      ]
    },
    {
      "cell_type": "code",
      "execution_count": 16,
      "metadata": {},
      "outputs": [
        {
          "ename": "TypeError",
          "evalue": "Non-constant expressions cannot be multiplied",
          "output_type": "error",
          "traceback": [
            "\u001b[0;31m---------------------------------------------------------------------------\u001b[0m",
            "\u001b[0;31mTypeError\u001b[0m                                 Traceback (most recent call last)",
            "Cell \u001b[0;32mIn[16], line 4\u001b[0m\n\u001b[1;32m      1\u001b[0m \u001b[38;5;66;03m# Constrainst\u001b[39;00m\n\u001b[1;32m      2\u001b[0m \n\u001b[1;32m      3\u001b[0m \u001b[38;5;66;03m# CPU load <= 100\u001b[39;00m\n\u001b[0;32m----> 4\u001b[0m prob \u001b[38;5;241m+\u001b[39m\u001b[38;5;241m=\u001b[39m pulp\u001b[38;5;241m.\u001b[39mlpSum([\n\u001b[1;32m      5\u001b[0m     x[f] \u001b[38;5;241m*\u001b[39m cpu[f] \u001b[38;5;241m*\u001b[39m (\u001b[38;5;241m1\u001b[39m \u001b[38;5;241m-\u001b[39m \u001b[38;5;241m0.5\u001b[39m\u001b[38;5;241m*\u001b[39mc[f] \u001b[38;5;241m+\u001b[39m \u001b[38;5;241m2\u001b[39m\u001b[38;5;241m*\u001b[39ms[f])\n\u001b[1;32m      6\u001b[0m     \u001b[38;5;28;01mfor\u001b[39;00m f \u001b[38;5;129;01min\u001b[39;00m features]) \u001b[38;5;241m<\u001b[39m\u001b[38;5;241m=\u001b[39m \u001b[38;5;241m100\u001b[39m\n\u001b[1;32m      8\u001b[0m \u001b[38;5;66;03m# Storage load <= 100\u001b[39;00m\n\u001b[1;32m      9\u001b[0m prob \u001b[38;5;241m+\u001b[39m\u001b[38;5;241m=\u001b[39m pulp\u001b[38;5;241m.\u001b[39mlpSum([\n\u001b[1;32m     10\u001b[0m     x[f] \u001b[38;5;241m*\u001b[39m storage[f] \u001b[38;5;241m*\u001b[39m (\u001b[38;5;241m1\u001b[39m \u001b[38;5;241m-\u001b[39m \u001b[38;5;241m0.5\u001b[39m\u001b[38;5;241m*\u001b[39mc[f] \u001b[38;5;241m-\u001b[39m \u001b[38;5;241m0.5\u001b[39m\u001b[38;5;241m*\u001b[39ms[f])\n\u001b[1;32m     11\u001b[0m     \u001b[38;5;28;01mfor\u001b[39;00m f \u001b[38;5;129;01min\u001b[39;00m features]) \u001b[38;5;241m<\u001b[39m\u001b[38;5;241m=\u001b[39m \u001b[38;5;241m100\u001b[39m\n",
            "Cell \u001b[0;32mIn[16], line 5\u001b[0m, in \u001b[0;36m<listcomp>\u001b[0;34m(.0)\u001b[0m\n\u001b[1;32m      1\u001b[0m \u001b[38;5;66;03m# Constrainst\u001b[39;00m\n\u001b[1;32m      2\u001b[0m \n\u001b[1;32m      3\u001b[0m \u001b[38;5;66;03m# CPU load <= 100\u001b[39;00m\n\u001b[1;32m      4\u001b[0m prob \u001b[38;5;241m+\u001b[39m\u001b[38;5;241m=\u001b[39m pulp\u001b[38;5;241m.\u001b[39mlpSum([\n\u001b[0;32m----> 5\u001b[0m     \u001b[43mx\u001b[49m\u001b[43m[\u001b[49m\u001b[43mf\u001b[49m\u001b[43m]\u001b[49m\u001b[43m \u001b[49m\u001b[38;5;241;43m*\u001b[39;49m\u001b[43m \u001b[49m\u001b[43mcpu\u001b[49m\u001b[43m[\u001b[49m\u001b[43mf\u001b[49m\u001b[43m]\u001b[49m\u001b[43m \u001b[49m\u001b[38;5;241;43m*\u001b[39;49m\u001b[43m \u001b[49m\u001b[43m(\u001b[49m\u001b[38;5;241;43m1\u001b[39;49m\u001b[43m \u001b[49m\u001b[38;5;241;43m-\u001b[39;49m\u001b[43m \u001b[49m\u001b[38;5;241;43m0.5\u001b[39;49m\u001b[38;5;241;43m*\u001b[39;49m\u001b[43mc\u001b[49m\u001b[43m[\u001b[49m\u001b[43mf\u001b[49m\u001b[43m]\u001b[49m\u001b[43m \u001b[49m\u001b[38;5;241;43m+\u001b[39;49m\u001b[43m \u001b[49m\u001b[38;5;241;43m2\u001b[39;49m\u001b[38;5;241;43m*\u001b[39;49m\u001b[43ms\u001b[49m\u001b[43m[\u001b[49m\u001b[43mf\u001b[49m\u001b[43m]\u001b[49m\u001b[43m)\u001b[49m\n\u001b[1;32m      6\u001b[0m     \u001b[38;5;28;01mfor\u001b[39;00m f \u001b[38;5;129;01min\u001b[39;00m features]) \u001b[38;5;241m<\u001b[39m\u001b[38;5;241m=\u001b[39m \u001b[38;5;241m100\u001b[39m\n\u001b[1;32m      8\u001b[0m \u001b[38;5;66;03m# Storage load <= 100\u001b[39;00m\n\u001b[1;32m      9\u001b[0m prob \u001b[38;5;241m+\u001b[39m\u001b[38;5;241m=\u001b[39m pulp\u001b[38;5;241m.\u001b[39mlpSum([\n\u001b[1;32m     10\u001b[0m     x[f] \u001b[38;5;241m*\u001b[39m storage[f] \u001b[38;5;241m*\u001b[39m (\u001b[38;5;241m1\u001b[39m \u001b[38;5;241m-\u001b[39m \u001b[38;5;241m0.5\u001b[39m\u001b[38;5;241m*\u001b[39mc[f] \u001b[38;5;241m-\u001b[39m \u001b[38;5;241m0.5\u001b[39m\u001b[38;5;241m*\u001b[39ms[f])\n\u001b[1;32m     11\u001b[0m     \u001b[38;5;28;01mfor\u001b[39;00m f \u001b[38;5;129;01min\u001b[39;00m features]) \u001b[38;5;241m<\u001b[39m\u001b[38;5;241m=\u001b[39m \u001b[38;5;241m100\u001b[39m\n",
            "File \u001b[0;32m~/miniconda3/envs/datascience/lib/python3.9/site-packages/pulp/pulp.py:921\u001b[0m, in \u001b[0;36mLpAffineExpression.__mul__\u001b[0;34m(self, other)\u001b[0m\n\u001b[1;32m    919\u001b[0m \u001b[38;5;28;01mif\u001b[39;00m \u001b[38;5;28mlen\u001b[39m(other):\n\u001b[1;32m    920\u001b[0m     \u001b[38;5;28;01mif\u001b[39;00m \u001b[38;5;28mlen\u001b[39m(\u001b[38;5;28mself\u001b[39m):\n\u001b[0;32m--> 921\u001b[0m         \u001b[38;5;28;01mraise\u001b[39;00m \u001b[38;5;167;01mTypeError\u001b[39;00m(\u001b[38;5;124m\"\u001b[39m\u001b[38;5;124mNon-constant expressions cannot be multiplied\u001b[39m\u001b[38;5;124m\"\u001b[39m)\n\u001b[1;32m    922\u001b[0m     \u001b[38;5;28;01melse\u001b[39;00m:\n\u001b[1;32m    923\u001b[0m         c \u001b[38;5;241m=\u001b[39m \u001b[38;5;28mself\u001b[39m\u001b[38;5;241m.\u001b[39mconstant\n",
            "\u001b[0;31mTypeError\u001b[0m: Non-constant expressions cannot be multiplied"
          ]
        }
      ],
      "source": [
        "# Constrainst\n",
        "\n",
        "# CPU load <= 100\n",
        "prob += pulp.lpSum([\n",
        "    x[f] * cpu[f] * (1 - 0.5*c[f] + 2*s[f])\n",
        "    for f in features]) <= 100\n",
        "\n",
        "# Storage load <= 100\n",
        "prob += pulp.lpSum([\n",
        "    x[f] * storage[f] * (1 - 0.5*c[f] - 0.5*s[f])\n",
        "    for f in features]) <= 100\n",
        "\n",
        "# Mandatory features: A, J\n",
        "prob += x['A'] == 1\n",
        "prob += x['J'] == 1\n",
        "\n",
        "# Feature compression can only be applied to selected features\n",
        "for f in features:\n",
        "    prob += c[f] <= x[f]\n",
        "\n",
        "# Storage-efficient algorithm can only be applied to selected features\n",
        "for f in features:\n",
        "    prob += s[f] <= x[f]\n",
        "\n",
        "# Feature compression limit\n",
        "prob += pulp.lpSum([c[f] for f in features]) <= 2\n",
        "\n",
        "# Storage-efficient algorithm can only use by H, I, J\n",
        "prob += s['A'] == 0\n",
        "prob += x['B'] == 0\n",
        "prob += x['C'] == 0\n",
        "prob += s['D'] == 0\n",
        "prob += x['E'] == 0\n",
        "prob += x['F'] == 0\n",
        "prob += x['G'] == 0\n",
        "\n",
        "# No concurrently\n",
        "for f in features:\n",
        "    prob += s[f] + c[f] <= 1\n",
        "\n",
        "# Solve the problem\n",
        "prob.solve()\n",
        "\n",
        "# Output the results\n",
        "print(\"Optimal Feature Selection and Optimization:\")\n",
        "for f in features:\n",
        "    print(f\"{f}: Selected = {x[f].varValue}, Compressed = {c[f].varValue}\")\n",
        "    print(f\"{f}: Storage-efficient algorithm = {s[f].varValue}\")\n",
        "\n",
        "print(f\"Total business value: {pulp.value(prob.objective)}\")"
      ]
    }
  ],
  "metadata": {
    "colab": {
      "collapsed_sections": [
        "GlxhJvKtEI0s",
        "KqcxWQFHkvts",
        "CZMYbeO8jIio",
        "nkz_ruMSjE1S"
      ],
      "provenance": []
    },
    "kernelspec": {
      "display_name": "datascience",
      "language": "python",
      "name": "python3"
    },
    "language_info": {
      "codemirror_mode": {
        "name": "ipython",
        "version": 3
      },
      "file_extension": ".py",
      "mimetype": "text/x-python",
      "name": "python",
      "nbconvert_exporter": "python",
      "pygments_lexer": "ipython3",
      "version": "3.9.7"
    }
  },
  "nbformat": 4,
  "nbformat_minor": 0
}
