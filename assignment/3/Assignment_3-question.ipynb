{
  "nbformat": 4,
  "nbformat_minor": 0,
  "metadata": {
    "colab": {
      "provenance": []
    },
    "kernelspec": {
      "name": "python3",
      "display_name": "Python 3"
    }
  },
  "cells": [
    {
      "cell_type": "markdown",
      "metadata": {
        "id": "-63oJvzsbO-k"
      },
      "source": [
        "#  **<<< Only Problem 2 and 4 will be graded >>>**\n"
      ]
    },
    {
      "cell_type": "code",
      "metadata": {
        "id": "NJJRGQUCEuNE"
      },
      "source": [
        "import matplotlib.pyplot as plt\n",
        "import numpy as np\n",
        "import IPython.display as ipd\n",
        "%matplotlib inline\n",
        "import os\n",
        "from scipy import signal,fftpack\n",
        "from skimage.io import imread\n",
        "import cv2"
      ],
      "execution_count": null,
      "outputs": []
    },
    {
      "cell_type": "markdown",
      "source": [
        "## Problem 1\n",
        "Find the Fourier series of the following periodic function \\\\\n",
        "![Screen Shot 2566-07-23 at 16.04.30.png](data:image/png;base64,iVBORw0KGgoAAAANSUhEUgAAAj4AAAFCCAYAAADxOteLAAAAAXNSR0IArs4c6QAAAGJlWElmTU0AKgAAAAgAAYdpAAQAAAABAAAAGgAAAAAABJKGAAcAAAASAAAAUKABAAMAAAABAAEAAKACAAQAAAABAAACPqADAAQAAAABAAABQgAAAABBU0NJSQAAAFNjcmVlbnNob3Rbw3anAAAB1mlUWHRYTUw6Y29tLmFkb2JlLnhtcAAAAAAAPHg6eG1wbWV0YSB4bWxuczp4PSJhZG9iZTpuczptZXRhLyIgeDp4bXB0az0iWE1QIENvcmUgNi4wLjAiPgogICA8cmRmOlJERiB4bWxuczpyZGY9Imh0dHA6Ly93d3cudzMub3JnLzE5OTkvMDIvMjItcmRmLXN5bnRheC1ucyMiPgogICAgICA8cmRmOkRlc2NyaXB0aW9uIHJkZjphYm91dD0iIgogICAgICAgICAgICB4bWxuczpleGlmPSJodHRwOi8vbnMuYWRvYmUuY29tL2V4aWYvMS4wLyI+CiAgICAgICAgIDxleGlmOlBpeGVsWURpbWVuc2lvbj4zMjI8L2V4aWY6UGl4ZWxZRGltZW5zaW9uPgogICAgICAgICA8ZXhpZjpQaXhlbFhEaW1lbnNpb24+NTc0PC9leGlmOlBpeGVsWERpbWVuc2lvbj4KICAgICAgICAgPGV4aWY6VXNlckNvbW1lbnQ+U2NyZWVuc2hvdDwvZXhpZjpVc2VyQ29tbWVudD4KICAgICAgPC9yZGY6RGVzY3JpcHRpb24+CiAgIDwvcmRmOlJERj4KPC94OnhtcG1ldGE+CtamAzQAACX4SURBVHgB7d0HkFXl+T/wl2ZBEUQELGiUaLCLLRY0do1YscVUo7FMoo6Jk4wYTXNEYxwnxoyJxnTRkYyJLYmNRBSjsQSwIdgbIlhoSnf/+57f7P6Bpewu5919z93PmVnYe+85z3nO5727+73nnnNup7r6KZgIECBAgAABAh1AoHMH2EabSIAAAQIECBAoBAQfTwQCBAgQIECgwwgIPh1mqG0oAQIECBAgIPh4DhAgQIAAAQIdRkDw6TBDbUM7qsC8efPCiBEjVrn58TyHyy67LCxcuHCV85qBAAECVRUQfKo6cvomUC8wd+7ccOmll4Zhw4aFG264oYnJokWLwjHHHBN69OjR5LFl7+jUqVNYa621wkknnRQ++eSTZR92mwABAjUhIPjUxDDaiI4qcOaZZ4b//Oc/Yeeddw5nnXVWeP3115eiuOiii4rQc+655y51f8ONl156KcyaNavhZrjgggtC586diz0/jXe28psYniZOnNjKpS1GgACBNAKCTxpXVQkkF3jrrbfCzTffHE444YQwderUsPfee4dNNtmkcb0xdFx33XXFV+OdS3wzc+bMsOuuu4brr79+iXtDuPrqq8OVV14ZXnnllaXub+mN8ePHhzvuuKOli5mfAAECSQUEn6S8ihNIJ/Dggw8Wb0nttttuRbh55JFHQteuXRtX+LOf/Swcf/zxoW/fvo33LfnNww8/XOzt2XHHHZe8O2y++ebhyCOPDL/85S+Xur+lN6699towfPjwli5mfgIECCQVEHyS8ipOIJ3Ak08+GdZYY42w7bbbNlnJ4sWLw1133RVOPfXUJo813DFmzJgiKO2zzz4NdzX+f+KJJ4bbb7+98XZrvnnqqaeKxeJxRiYCBAjkItDJR1bkMhT6INA8gX/+85/h8ccfDyNHjgzTp08P559/fthwww3DN7/5zcYCDz30UDjwwANDfDtrnXXWabx/9uzZ4ec//3mxp+hPf/pTmDFjRjjvvPOK44C+853vNM43bdq00K9fvzBu3Lji+KHGB5r5TTy+J643hp64Z2nPPfds5pJmI0CAQFoBe3zS+qpOoHSBeBzPDjvsEF588cWwxx57hPhWVby95BT35myzzTZLhZ74+JprrlnMG9/OisfwHH744cXyO+2005KLF2+PbbbZZiG+ndaaKR7fE88SiwHoX//6V2tKWIYAAQJJBASfJKyKEkgnEINOPK4nTkOHDg3HHXdc2HfffZdaYTzYeaONNlrqvngjvjV27LHHhj59+hSPxbfC4vIHHXRQk3njXqRYpzXTv//97+J6QDH4xLfcTAQIEMhFQPDJZST0QaAFAvEtqDjF09iXN8W3qnr27Lm8h4r7YjDp1q1bWN7xPQ0L9e7dO8Q6rZli2Gk4tif22vB9a2pZhgABAmUKCD5laqpFoI0EGt5KWvYtqobVx4Obu3Tp0nCzyf/xLaz4Nln37t2bPNZwRwxGrZniXp54DFLDFPcyxQOxTQQIEMhBQPDJYRT0QKCFAnEvyhZbbLHCvTrxbaolL0y4ZPl4wHMMTvvvv3/j3e+//37j9w3fxPk22GCDhpvN/j/WXvK0+vnz5zvOp9l6ZiRAILWA4JNaWH0CCQRiuFjR21xxdfHaPSs6PufRRx8tDjpuCD533nlnuOqqq5p0Gd/mWtE1gJrMvMQd8W20BQsWNN4Tv3ecTyOHbwgQaGcBwaedB8DqCbRU4MMPPyw+mmLw4MErXDSePv7cc88tFUAaZm7YuxOXj6ezX3755WHJU9njfHFv0csvv1y8HdawXHP/v+WWW0Lcy7Pk9NhjjznOZ0kQ3xMg0G4Cgk+70VsxgdYJNBzYvLJr4xx88MHFGVxxz9CyU3xswIABxfV/4hWar7nmmuI6QEvOF4/JWX/99cOQIUOWvLtZ38dPd49njcW3yeIxRPG0+F69ehWn3zergJkIECCQUOD/X98+4UqUJkCgPIH4oaRrr732Ss/IitfrOeKII4qLHMaDmJec4oUJX3jhhfDqq68WV32O19tZdop7bY466qiVHiC97DINtydMmFB8e9NNN4V77rknxP9NBAgQyEXAHp9cRkIfBFYi8OyzzxafnxXfvho7dmw4+uiji/CzkkXC2WefHeLVmefOndtktrgnZrvttisuMrjsgx988EGIweecc85Z9iG3CRAgUHkBwafyQ2gDOoJADCL33ntveOaZZ4pTxS+55JJVbvYBBxwQDjvssHDRRRetct4lZ4jzn3LKKcUnty95v+8JECBQCwKCTy2Mom2oeYHTTz897LfffiF+4vmvf/3rYm9Nczb6+uuvLwJTc8+qigErXoMnHvdjIkCAQC0KOManFkfVNtWcwJZbbhlGjx7d4u2KV2+On5X1wx/+sDhmZ2UF6j+wuAhJDzzwwEovbLiyGh4jQIBA7gKCT+4jpD8CqynQv3//EPf8rGqKBzn/4Q9/WNVsHidAgEClBbzVVenh0zwBAgQIECDQEgHBpyVa5iVAgAABAgQqLSD4VHr4NE+AAAECBAi0REDwaYmWeQkQIECAAIFKCwg+lR4+zRMgQIAAAQItERB8WqJlXgIECBAgQKDSAoJPpYdP8wQIECBAgEBLBASflmiZlwABAgQIEKi0gOBT6eHTPAECBAgQINASAcGnJVrmJUCAAAECBCotIPhUevg0T4AAAQIECLREQPBpiZZ5CRAgQIAAgUoLCD6VHj7NEyBAgAABAi0REHxaomVeAgTaVGDatGnh3HPPDYceemibrtfKCBCoXQHBp3bH1pYRqKzA3XffHbbffvswbNiwcOONN4b58+dXdls0ToBAXgJd82pHNwQIEAhh6NChxVenTp3CgAEDkBAgQKA0AcGnNEqFCBAoSyAGHhMBAgRSCHirK4WqmgQIECBAgECWAoJPlsOiKQIECBAgQCCFgOCTQlVNAgQIECBAIEsBwSfLYdEUAQIECBAgkEJA8EmhqiYBAgQIECCQpYDgk+WwaIoAAQIECBBIISD4pFBVkwABAgQIEMhSQPDJclg0RYBAFIhXbJ4xY0aYOnUqEAIECJQiIPiUwqgIAQJlCowdOzYMHjw4DBo0KMSLGb7zzjth6623DrvsskuYMmVKmatSiwCBDibgys0dbMBtLoEqCAwZMiSMGzeuCq3qkQCBignY41OxAdMuAQIECBAg0HoBwaf1dpYkQIAAAQIEKiYg+FRswLRLgAABAgQItF5A8Gm9nSUJECBAgACBigk4uLkVAzZnzpxw//33t2LJPBf5zGc+E7bddts8m2tmV/FMn//+97/NnDv/2Xbfffew6aab5t9ofYfxlPOJEyc26fXJJ58Mzz//fLj66qubPNa7d+/Qs2fPJvfnfMdBBx0U1ltvvZxbXGVvTzzxRHjrrbdWOV9VZjj22GOLs/6q0u/y+hw9enSYNWvW8h4q9b7jjjuu1HpVLtaprn6q8ga0R++TJk0qTrON6+7Ro0d7tFDaOmfPnh2GDx8eRowYUVrN9ih02223hRNOOKHy4xHt4piMHDkyfPGLX2wPyhav85VXXgnDhg1rstxrr70WZs6cGTp3brpjeY011gjdunVrskyOd8QXOvHX5Pjx48NOO+2UY4vN7unkk08Oo0aNqvzPSfwZidPChQtD167Vfv0eX3hOnjw5+ZjEn8V4aQhTCNV+xrTzCMZXTptsskk7d7F6q4+vYmtlinsQ4sXuqj7179+/Upuw5ZZbFqFg2aaPP/748NBDD4Xp06cv+1Clbr///vuhT58+lep5Zc2eccYZ4YYbbljZLNk/NmbMmLD//vtn32dzGowvAK655ppw3nnnNWd285Qg0PSlWAlFlSBAgAABAgQI5Cgg+OQ4KnoiQIAAAQIEkggIPklYFSVAgAABAgRyFBB8chwVPREgQIAAAQJJBASfJKyKEiBAgAABAjkKCD45joqeCBAgQIAAgSQCgk8SVkUJECBAgACBHAUEnxxHRU8ECBAgQIBAEgHBJwmrogQIECBAgECOAoJPjqOiJwIECBAgQCCJgOCThFVRAgQIECBAIEcBwSfHUdETAQIECBAgkERA8EnCqigBAgQIECCQo4Dgk+Oo6IkAAQIECBBIIiD4JGFVlAABAgQIEMhRQPDJcVT0RIAAAQIECCQREHySsCpKgAABAgQI5Cgg+OQ4KnoiQIAAAQIEkggIPklYFSVAgAABAgRyFBB8chwVPREgQIAAAQJJBASfJKyKEiBAgAABAjkKCD45joqeCBAgQIAAgSQCgk8SVkUJECBAgACBHAUEnxxHRU8ECBAgQIBAEgHBJwmrogQIECBAgECOAoJPjqOiJwIECBAgQCCJgOCThFVRAgQIECBAIEcBwSfHUdETAQIECBAgkERA8EnCqigBAgQIECCQo4Dgk+Oo6IkAAQIECBBIIiD4JGFVlAABAgQIEMhRQPDJcVT0RIAAAQIECCQREHySsCpKgAABAgQI5Cgg+OQ4KnoiQIAAAQIEkggIPklYFSVAgAABAgRyFBB8chwVPREgQIAAAQJJBASfJKyKEiBAgAABAjkKCD45joqeCBAgQIAAgSQCgk8SVkUJECBAgACBHAUEnxxHRU8ECBAgQIBAEgHBJwmrogQIECBAgECOAoJPjqOiJwIECBAgQCCJgOCThFVRAgQIECBAIEcBwSfHUdETAQIECBAgkERA8EnCqigBAgQIECCQo4Dgk+Oo6IkAAQIECBBIIiD4JGFVlAABAgQIVE9g8eLFq2y6rHlWuaJEM7Rr8CkLrzl1EvkpS4AAAQIEakLgmGOOCX379g3vvvvuCrenrHlWuII2eKDdgs/DDz8cevbsGb7//e+vcDPLmmeFK/AAAQKrLfD666+Hfffdt8nXmDFjwowZM5rcH+cdNWrUaq9XAQIEyhWYMmVK8TMbf25XNJU1z4rqt8X9XdtiJctbx6xZs8JHH30UXnvtteU9XNxX1jwrXIEHCBBYbYENN9wwjBgxokmdiy++OEyYMGG5jw0cOLDJ/O4gQKB9BR544IEQ/+4OGDBghY2UNc8KV9AGD7Rb8Bk6dGiYOHFi+PSnP73CzSxrnhWuwAMECKy2QPfu3Yu9OssW6tOnT+jWrdtyH1t2XrcJEGh/gfguTPxa2VTWPCtbR+rH2i34xA0bNGjQKrevrHlWuSIzECBAgAABAjUv0G7H+NS8rA0kQIAAAQIEshMQfLIbEg0RIECAAAECqQQEn1Sy6hIgQIAAAQLZCQg+2Q2JhggQIECAAIFUAoJPKll1CRAgQIAAgewEBJ/shkRDBAgQIECAQCoBwSeVrLoECBAgQIBAdgKCT3ZDoiECBAgQIEAglYDgk0pWXQIECBAgQCA7AcEnuyHREAECBAgQIJBKQPBJJasuAQIECBAgkJ2A4JPdkGiIAAECBAgQSCUg+KSSVZcAAQIECBDITkDwyW5INESAAAECBAikEhB8UsmqS4AAAQIECGQnIPhkNyQaIkCAAAECBFIJCD6pZNUlQIAAAQIEshMQfLIbEg0RIECAAAECqQQEn1Sy6hIgQIAAAQLZCQg+2Q2JhggQIECAAIFUAoJPKll1CRAgQIAAgewEBJ/shkRDBAgQIECAQCoBwSeVrLoECBAgQIBAdgKCT3ZDoiECBAgQIEAglYDgk0pWXQIECBAgQCA7AcEnuyHREAECBAgQIJBKQPBJJasuAQIECBAgkJ2A4JPdkGiIAAECBAgQSCUg+KSSVZcAAQIECBDITkDwyW5INESAAAECBAikEhB8UsmqS4AAAQIECGQnIPhkNyQaIkCAAAECBFIJCD6pZNUlQIAAAQIEshMQfLIbEg0RIECAAAECqQQEn1Sy6hIgQIAAAQLZCQg+2Q2JhggQIECAAIFUAoJPKll1CRAgQIAAgewEBJ/shkRDBAgQIECAQCoBwSeVrLoECBAgQIBAdgKCT3ZDoiECBAgQIEAglYDgk0pW3TYVWLhwYfjkk0/adJ1WRqBqAvPnzw/xy5SPQPzdtWDBgnwa6gCddO0A21j6JnqSlk662gXffPPN8NFHH612HQUI1LLApEmTQo8ePWp5Eyu3bVOmTAmTJ0+uXN9VbtgenyqPnt4JECBAgACBFgkIPi3iMjMBAgQIECBQZQHBp8qjp3cCBAgQIFBhgSuuuCJsscUW4ZJLLgkPPvhgmxyDJvhU+AmjdQIECBAgUGWBOXPmhNdeey3EAHTMMceE9dZbLwwePDhpEGrzg5v/9re/Vf4I9jfeeKN4nt15552hd+/eVX7OhXfffTc8//zz4dZbb630dkyYMCHU1dVVfjviIMybNy88+uijoUuXLpUek7feeqt49Vb159bs2bOLcbj33nvDCy+8UOkxmTVrVvH7t+pjEn9nxWnUqFGV/zlZtGhRePnll2vid1drfjgmTpxYLBYd4vMzTuPHjw9PP/10uPrqq0M8622rrbYKn/rUp8J3v/vdsNdee4U111yzmK+1/7R58Lnrrrsqf/bNjBkzCu9//OMfoXv37q21z2K56dOnh8WLF4e//vWvWfTT2ibiH6QYfKq+HXH7Y/B54oknwrRp01rLkcVyb7/9dhF8qj4mDad/jx49OvTq1SsL29Y2EUPc3LlzK/9z0vCzEV9Id+5c7Tcu4h/8uMej6j8nrX1OrujFRLw8yccffxy6detWvDiPYXfgwIHF8/fwww8PnTp1au0qQ/xjYWqhQH0SrasXr6t/RdvCJfOb/cADD6wbPnx4fo21sKMrr7yyrv4XYAuXynP2fv361Y0cOTLP5lrQ1bBhw+r69OnTgiXynPW9994rft7rX4Xm2WALuho0aFDd7rvv3oIl8py1/liQYkzq9wbk2WALulp33XXrzjjjjBYsUVuz1h/bU4xl/JtaH2bq6t/qqltjjTXqNt9887ozzzyz7rbbbquLP4NlTm2+x6f1Ec2SBAgQIECAQC0J1AeaYnPqg0447LDDiq/Pfe5zYYMNNki2mYJPMlqFCRAgQIAAgZUJnHbaaeH8889PGnSWXb/gs6yI2wQIECBAgECbCMRT2dt6qvZRYW2tZX0ECBAgQIBApQXs8WnF8HXtiq0VbEkXie8Hr+4pjkkbVJxABgL9+/cPPXv2zKATLTQIrL/++iGOi6ntBPwFb4V11U+fbMUmZ79I/GVefyZA9n1qkEB7CvTt21fwac8BWM664wX76s9+XM4j7kol4K2uVLLqEiBAgAABAtkJCD7ZDYmGCBAgQIAAgVQCgk8qWXUJECBAgACB7AQEn+yGREMECBAgQIBAKgHBJ5WsugQIECBAgEB2AoJPdkPyfw1NmTIlnHzyycWn0g4YMCCccMIJ4Y477si0247VVvyAxHPPPTcceuihHWvDE23tww8/HOo/1yuceOKJYY899iiu4jpnzpxEa1O2OQLxYwTip9HHT8R+5JFHmrOIeRIL/O53vws777xz2GyzzcJuu+1WfFL5hx9+mHitbVt+wYIF4bnnnku+UsEnOXHLVxA/QXmfffYp/hhMnDgxTJ48OcRPqj3uuOPC73//+5YXtEQpAnfffXfYfvvti3G58cYbi08eL6VwBy4yYcKEcPDBB4f6D2kMf/nLX8Kjjz4aXnnllXDsscfGD1DuwDLtt+nx85K222678L3vfS+8/vrrIf4xMrWvwDXXXBNuvvnmcNddd4U33ngj1H8oc7juuuvCQQcdFGop/Fx22WXFi5/U2oJPauFW1P/Nb34TunTpEg4//PAQL5a49tprhxEjRhR/CC688MJWVLRIGQJDhw4NzzzzTBg7dqzrbpQBWl/j4osvLsLk5z//+aJifN7/4Ac/CKNHjw73339/SWtRpiUCf//738Pzzz8fzjvvvJYsZt5EAvFF7wUXXBC+/OUvh7j3P04HHnhgOOqoo8K4cePCLbfckmjNbV82Pvd23HHH5CsWfJITt3wFcVffyy+/HH7xi180Ljxo0KAQP702vs0SfymZ2l6gU6dOIX6ZyhGYN29eEXDi21tLTnF3fnSOvwRNbS/gyvRtb76yNb799tth8eLF4ZxzzgnxZ6Zhii+M4/Tggw8W/1f9n1mzZoXx48eH/fffP/mmuHJzcuKWr+ALX/hCiE/2I488snHh+MSfMWNG423fEKi6wP/+978wd+7csO666y61KfEPb/wIknjsj4lARxfYZJNNwle/+tUQr7q91lprNXK8//77jd9X+Zv4AufJJ58Mb775ZhHwXnzxxfDjH/+4+Pu36667Jtk0wScJ6+oVPeSQQ0L8WnJ6/PHHw8yZM8PWW28dtt122yUf8j2BSgp88MEHRd/rrLNOk/7jL/iGx5s86A4CHUggfkTSH//4xyZbfN999xX3xWM/qzzFg7XjcWRxz1W3bt3CKaecEuI2b7TRRsk2S/BJRlte4XiQZ0zA8UkRj+w3EagFgXgQf5ziMWzLTvGtro8++mjZu90mQKBeIO4NfeCBB8IRRxwR4jsEVZ522GGHEL/igc277757OP7445NvjuCTkHjkyJGh4Zf7qlYTd2PGU3qXN1177bXFsRCjRo0qzvZa3jzua57ApEmTilcWzTljKP7xjQfdxlckpvIFVvahsvF09pU9Xn43KhKohkA8Fia+9TVkyJAQ/ybUwnGH8d2MeKD28OHD22QQBJ9EzPEPazwDqLnBp3///ssNPvHslh/96EfFNXxiujetnsC7774bnn766WYVib9Q4vUyBJ9mcbV4pl69ehXLzJ8/v8my8edmyy23bHK/Owh0ZIGFCxeGk046qbjcQAw93bt3rwmOhx56qLhkS1sc2BzBBJ9ET5v4R/OKK65YreoxAX/jG98I99xzT+O1DeKBYPGArxiUTC0X2G+//UL8MrW/wFZbbVU0MX369KWaiQc8L1q0qLh451IPuEGgAwvEF9Onn3568bs/XkcsngQQT3r585//HE499dRKy4wZM6Y4lGPvvfcutiOeyLPeeusVx/qk2DCns6dQLaHmq6++Gr72ta+F22+/vTH0xLI33HBDCdWVIND+AnFP2uDBg0N8ri85xTMa4xQvpGciQOD/BOLbQHEPT7yIbcMlB+Le68cee6zyRPHaaPGyFnH7YsCLZzQ3992S1my8PT6tUUu8zHvvvVdcvDBeuCpe4C1O8cnw8ccfF5fztrcn8QCsonx8aya+Ipk6deoq5vTwqgTOPPPM8O1vfzvEtyD79etXzH7rrbeG9ddfv9ilv6rlPZ5OoOH53fB/ujWpvCqBeE23n/70pyFeRPXoo48uZo97ReOp3/Hjc6o+xVPzG65L9Ktf/aq4QGPPnj2TbZbgk4y29YXjlWvjx1TE6aWXXlqq0F577bXUbTfaTiC+Kom/ZGLoiW9lvvPOO8XlBeJ1aOLHWWy88cZt10yNrOnss88uLsEfL9/wrW99q3i+x1N344kBDUGoRja1MpsR306J11WJH40Q326IV3COH5EQrxT8k5/8pDLbUSuNxuAZXxzEaXkX9dxmm20qv6mnnXZaccp+PH6pd+/excdxpNwowSelbitrx89giV+mvATiWRTxuCtTuQLx41jiH9v4Pn/84Nd4MP/yru1T7lpVW5HAb3/72xU95P52EIh7+OOxPLU8xbfx2uqMrugo+NTys8m2EaiIwMCBA0P8MhEgQCC1gIObUwurT4AAAQIECGQjIPhkMxQaIUCAAAECBFILCD6phdUnQIAAAQIEshEQfLIZCo0QIECAAAECqQUEn9TC6hMgQIAAAQLZCAg+2QyFRggQIECAAIHUAoJPamH1CRAgQIAAgWwEBJ9shkIjBAgQIECAQGoBwSe1sPoECBAgQIBANgKCTzZDoRECBAgQIEAgtYDgk1pYfQIECBAgQCAbAcEnm6HQCAECBAgQIJBaQPBJLaw+AQIECBAgkI2A4JPNUGiEAAECBAgQSC0g+KQWVp8AAQIECBDIRkDwyWYoNEKAAAECBAikFhB8UgurT4AAAQIECGQjIPhkMxQaIUCAAAECBFILCD6phdUnQIAAAQIEshEQfLIZCo0QIECAAAECqQUEn9TC6hMgQIAAAQLZCAg+2QyFRggQIECAAIHUAl1Tr0B9AgRqW2Dy5MlhyJAhTTZy5syZYeHChaFv375NHrv00kvDWWed1eR+dxAgQCC1gOCTWlh9AjUuMHDgwPDss8822cqvf/3r4bHHHlvuYz169GgyvzsIECDQFgKCT1soWweBGhbo0qXLcvfqrLXWWqFz587LfayGOWwaAQKZCzjGJ/MB0h4BAgQIECBQnoDgU56lSgQIECBAgEDmAoJP5gOkPQIECBAgQKA8AcGnPEuVCBAgQIAAgcwFBJ/MB0h7BAgQIECAQHkCgk95lioRIECAAAECmQsIPpkPkPYIECBAgACB8gQEn/IsVSJAgAABAgQyFxB8Mh8g7REgQIAAAQLlCQg+5VmqRIAAAQIECGQuIPhkPkDaI0CAAAECBMoTEHzKs1SJAAECBAgQyFxA8Ml8gLRHgAABAgQIlCcg+JRnqRIBAgQIECCQuYDgk/kAaY8AAQIECBAoT0DwKc9SJQIECBAgQCBzAcEn8wHSHgECBAgQIFCegOBTnqVKBAgQIECAQOYCgk/mA6Q9AgQIECBAoDwBwac8S5UIECBAgACBzAUEn8wHSHsECBAgQIBAeQKCT3mWKhEgQIAAAQKZCwg+mQ+Q9ggQIECAAIHyBASf8ixVIkCAAAECBDIXEHwyHyDtESBAgAABAuUJCD7lWapEgAABAgQIZC4g+GQ+QNojQIAAAQIEyhMQfMqzVIkAAQIECBDIXEDwyXyAtEeAAAECBAiUJyD4lGepEgECBAgQIJC5gOCT+QBpjwABAgQIEChPQPApz1IlAgQIECBAIHMBwSfzAdIeAQIECBAgUJ6A4FOepUoECBAgQIBA5gKCT+YDpD0CBAgQIECgPAHBpzxLlQgQIECAAIHMBQSfzAdIewQIECBAgEB5AoJPeZYqESBAgAABApkLCD6ZD5D2CBAgQIAAgfIEBJ/yLFUiQIAAAQIEMhcQfDIfIO0RIECAAAEC5QkIPuVZqkSAAAECBAhkLiD4ZD5A2iNAgAABAgTKExB8yrNUiQABAgQIEMhcQPDJfIC0R4AAAQIECJQnIPiUZ6kSAQIECBAgkLmA4JP5AGmPAAECBAgQKE+ga3ml8ql01VVXheeeey5ZQy+99FKy2m1duK6uLlx++eXhnXfeaetVl7q+++67L8yZM6fUmu1VbO7cueH8888P999/f3u10KL1zps3L7zwwgtNlhk/fnzo3r17uPTSS5s8duihh4bPfvazTe7P+Y4zzjgjbLfddjm3uMreRo0aFeJ21Mp02mmnhS5dulR6c1L+rao0TMLmazL4LF68OCxcuDAZ2+abbx7iV/ylXvXpkEMOCRtvvHFSr7YwOuCAA8I666zTFqtKvo6vfOUrYcaMGZUZk/iztmjRoiYum266aViwYEHxteyDn3zyybJ3lXJ72rRpRdCaNGlSiGG4jGnNNdcMX/rSl4pSKX+vlNHrqmrE7dhzzz1XNVv2j/fr168Yk/g8SvVcaiuEOCaDBg1qq9VZT71Ap/pX/HUkCBAgULbATTfdFO65554Q/0893X333eHCCy8MvXr1Ck899VTYY489wpgxY1KvVn0CBCooUJN7fCo4DlomQGA1BIYOHRriV6dOncKAAQNWo5JFCRCodQHBp9ZH2PYR6AACMfCYCBAg0BwBZ3U1R8k8BAgQIECAQE0ICD41MYw2ggABAgQIEGiOgODTHCXzECBAgAABAjUh4BifmhhGG0GgNgRGjhwZZs+e3ayN6du3bxg2bFiz5jUTAQIEGgQEnwYJ/xMg0K4C8coazzzzTLODT//+/QWfdh0xKydQTQHBp5rjpmsCNScQz8y64ooram67bBABAnkJOMYnr/HQDQECBAgQIJBQQPBJiKs0AQJtKzB//vzi4z6mTp3atiu2NgIEKiMg+FRmqDRKgMCKBMaOHRsGDx5cfOZRfMssfuju1ltvHXbZZZcwZcqUFS3mfgIEOqCAY3w64KDbZAK1JjBkyJAwbty4Wtss20OAQAIBe3wSoCpJgAABAgQI5Ckg+OQ5LroiQIAAAQIEEggIPglQlSRAgAABAgTyFBB88hwXXREgQIAAAQIJBASfBKhKEiBAgAABAnkKCD55jouuCBAgQIAAgQQCgk8CVCUJECBAgACBPAUEnzzHRVcECBAgQIBAAgHBJwGqkgQIECBAgECeAoJPnuOiKwIECBAgQCCBgOCTAFVJAgQIECBAIE8BwSfPcdEVAQIECBAgkEBA8EmAqiQBAgQIECCQp4Dgk+e46IoAAQIECBBIICD4JEBVkgABAgQIEMhTQPDJc1x0RYAAAQIECCQQEHwSoCpJgAABAgQI5Ckg+OQ5LroiQIAAAQIEEggIPglQlSRAgAABAgTyFBB88hwXXREgQIAAAQIJBASfBKhKEiBAgAABAnkKCD55jouuCBAgQIAAgQQCgk8CVCUJECBAgACBPAUEnzzHRVcECBAgQIBAAgHBJwGqkgQIECBAgECeAoJPnuOiKwIECBAgQCCBgOCTAFVJAgQIECBAIE8BwSfPcdEVAQIECBAgkEBA8EmAqiQBAgQIECCQp4Dgk+e46IoAAQIECBBIICD4JEBVkgABAgQIEMhTQPDJc1x0RYAAAQIECCQQEHwSoCpJgAABAgQI5Ckg+OQ5LroiQIAAAQIEEggIPglQlSRAgAABAgTyFBB88hwXXREgQIAAAQIJBASfBKhKEiAQQs+ePcPGG2+MggABAlkJdKqrn7LqSDMECBAgQIAAgUQC9vgkglWWAAECBAgQyE9A8MlvTHREgAABAgQIJBIQfBLBKkuAAAECBAjkJyD45DcmOiJAgAABAgQSCQg+iWCVJUCAAAECBPITEHzyGxMdESBAgAABAokEBJ9EsMoSIECAAAEC+QkIPvmNiY4IECBAgACBRAKCTyJYZQkQIECAAIH8BASf/MZERwQIECBAgEAigf8HPMeuXktLe1cAAAAASUVORK5CYII=)"
      ],
      "metadata": {
        "id": "kTckyuMt_-S2"
      }
    },
    {
      "cell_type": "markdown",
      "source": [
        "## Problem 2\n",
        "\n",
        "Find th Fourier Series (FS) of the periodic function $ x(t) $ which are provided as follows.\n",
        "\n",
        "\n",
        "1. $ x(t) = \\frac{\\pi t^3}{2} ; -1 < t < 1$\n",
        "2. $ x(t) = \\pi - t; -\\pi <= t <= \\pi$\n",
        "3. $ x(t) = t^2 + \\sin^3(\\pi t) ; -1 <= t <= 1$"
      ],
      "metadata": {
        "id": "qqmlsnpsA0SK"
      }
    },
    {
      "cell_type": "markdown",
      "metadata": {
        "id": "n1iccSts9JaA"
      },
      "source": [
        "## Problem 3\n",
        "Find the Fourier tranform of the following signals in terms of $X(j\\omega)$, the Fourier tranform of $x(t)$\n",
        "$ \\left( \\mathscr{F} \\left\\{ x(t) \\right\\} = X(j\\omega) \\right)  $\n",
        "\n",
        "1. $x(-t)$\n",
        "2. $x_e(t) = \\frac{x(t) + x(-t)}{2}$\n",
        "3. $x_o(t) = \\frac{x(t) - x(-t)}{2}$"
      ]
    },
    {
      "cell_type": "markdown",
      "metadata": {
        "id": "94hxliNP9MQH"
      },
      "source": [
        "## Problem 4\n",
        "Let $  \\mathscr{F} \\left\\{ x(t) \\right\\} = X(j\\omega) = \\textrm{rect} \\left[ (\\omega-1)/2\\right]  $. Find Fourier tranform of\n",
        "\n",
        "1. $x(-2t+4)$\n",
        "2. $(t-1)x(t-1)$\n",
        "3. $ t\\frac{dx(t)}{dt}$\n",
        "4. $ x(2t-1)\\exp[-j2t]$\n",
        "5. $ x(t)*x(t-1)$\n"
      ]
    },
    {
      "cell_type": "markdown",
      "source": [
        "## Problem 5.1\n",
        "### Proof\n",
        "\n",
        "$ \\mathscr{F} \\left\\{ e^{-|t|} \\right\\} = \\mathscr{F} \\left\\{ exp(-|t|) \\right\\} = \\frac{2}{\\omega^2+1}$\n",
        "\n",
        "## Problem 5.2\n",
        "\n",
        "Using the outcome obtained in Problem 5.1, Find the Fourier Transform of the given equation.\n",
        "\n",
        "1. $\\frac{d}{dt} (e^{-|t|})$\n",
        "2. $ exp(3t-|2t+2|)$\n",
        "2. $ \\frac{1}{2\\pi t^2 + 1}$\n"
      ],
      "metadata": {
        "id": "H3Wnb4mxDB1m"
      }
    },
    {
      "cell_type": "markdown",
      "metadata": {
        "id": "DSVxufo09QW5"
      },
      "source": [
        "## Problem 6\n",
        "\n",
        "For each of the following Fourier transform ($X(j\\omega)$),\n",
        "use Fourier transform properties to determine the corresponding time-domain signal ($x(t)$)\n",
        "\n",
        "1. $X(j\\omega) = u(\\omega) - u(\\omega -2)$\n",
        "2. $X(j\\omega) = \\cos(2\\omega)\\sin \\left(\\frac{\\omega}{2} \\right)$"
      ]
    },
    {
      "cell_type": "markdown",
      "metadata": {
        "id": "J8MjLfhQ9UaR"
      },
      "source": [
        "## Problem 7\n",
        "\n",
        "Proof\n",
        "\n",
        "$\\int_{-\\infty}^{\\infty} {|x(t)|}^2 dt = \\frac{1}{2\\pi} \\int_{-\\infty}^{ \\infty } |X(j\\omega)|^2 d\\omega$"
      ]
    },
    {
      "cell_type": "markdown",
      "metadata": {
        "id": "nLl2dnq0dzL_"
      },
      "source": [
        "## Problem 8\n",
        "\n",
        "\n",
        "\n",
        "Determine a signal $x(t)$ which has its Fourier transform\n",
        "\n",
        "$X(j\\omega) = \\delta(\\omega)-\\delta(\\omega-a_0\\pi)-\\delta(\\omega-a_1)$\n",
        "\n",
        "and the impulse response in time-domain is  $h(t) = u(t) - u(t-2b_0)$\n",
        "\n",
        "\n",
        "\n",
        "1.   Show how to find $x(t)$ and determine whether it is periodic?\n",
        "2.   Show how to find $y(t) = x(t) * h(t) $ and determine whether it is periodic?\n",
        "\n",
        "Verify you results by sketching $x(t)$, $h(t)$, $y(t)$, $X(j\\omega)$, $H(j\\omega)$ and $Y(j\\omega)$. Note that for the complex number, plot only its magnitude.\n",
        "\n",
        "\n",
        "\n",
        "\n",
        "\n",
        "\n",
        "\n",
        "\n",
        "\n",
        "\n"
      ]
    },
    {
      "cell_type": "code",
      "metadata": {
        "id": "6D7lyOtMYc8F"
      },
      "source": [],
      "execution_count": null,
      "outputs": []
    }
  ]
}